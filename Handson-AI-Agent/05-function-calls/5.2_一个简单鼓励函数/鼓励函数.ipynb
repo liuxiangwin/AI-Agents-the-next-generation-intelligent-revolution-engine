{
 "cells": [
  {
   "cell_type": "code",
   "execution_count": 1,
   "id": "73fd2f7f-af4c-4a34-8fd5-d5dd8a2c45e3",
   "metadata": {},
   "outputs": [
    {
     "name": "stdout",
     "output_type": "stream",
     "text": [
      "亲爱的Alice，你做得足够好了，现在是时候休息一下了。\n"
     ]
    }
   ],
   "source": [
    "def encouragement_generator(name, mood):\n",
    "    # 基础鼓励消息\n",
    "    messages = {\n",
    "        \"happy\": \"继续保持积极的心态，做得好！\",\n",
    "        \"sad\": \"记住，即使在最黑暗的日子里，也会有阳光等待着你。\",\n",
    "        \"tired\": \"你做得足够好了，现在是时候休息一下了。\",\n",
    "        \"stressed\": \"深呼吸，一切都会好起来的。\"\n",
    "    }\n",
    "    \n",
    "    # 获取对应心情的鼓励消息\n",
    "    message = messages.get(mood.lower(), \"你今天感觉如何？我总是在这里支持你！\")\n",
    "    \n",
    "    # 返回定制化的鼓励消息\n",
    "    return f\"亲爱的{name}，{message}\"\n",
    "\n",
    "# 使用示例\n",
    "print(encouragement_generator(\"Alice\", \"tired\"))\n"
   ]
  }
 ],
 "metadata": {
  "kernelspec": {
   "display_name": "Python 3.11",
   "language": "python",
   "name": "python3"
  },
  "language_info": {
   "codemirror_mode": {
    "name": "ipython",
    "version": 3
   },
   "file_extension": ".py",
   "mimetype": "text/x-python",
   "name": "python",
   "nbconvert_exporter": "python",
   "pygments_lexer": "ipython3",
   "version": "3.11.9"
  }
 },
 "nbformat": 4,
 "nbformat_minor": 5
}
