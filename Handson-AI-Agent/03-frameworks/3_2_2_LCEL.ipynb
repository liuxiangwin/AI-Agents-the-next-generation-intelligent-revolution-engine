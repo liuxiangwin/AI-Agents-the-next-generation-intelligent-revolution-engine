{
 "cells": [
  {
   "cell_type": "code",
   "execution_count": 1,
   "id": "f8b57c9f-2a37-4705-ad85-1eed165b351c",
   "metadata": {},
   "outputs": [],
   "source": [
    "import getpass\n",
    "import os\n",
    "from langchain_openai import ChatOpenAI\n",
    "from langchain_community.tools.tavily_search import TavilySearchResults\n",
    "from langchain.callbacks.streaming_stdout import StreamingStdOutCallbackHandler\n",
    "\n",
    "os.environ[\"TAVILY_API_KEY\"] = \"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\"\n",
    "os.environ['ATHINA_API_KEY'] = \"IhrJrr0krTMRA9ogqi5aaD4ZuYuvMcdG\"\n",
    "\n",
    "\n",
    "INFERENCE_SERVER_URL = \"http://localhost:8989\"\n",
    "MODEL_NAME = \"deepseek-ai/DeepSeek-R1-Distill-Qwen-14B\"\n",
    "API_KEY= \"alanliuxiang\"\n",
    "\n",
    "model = ChatOpenAI(\n",
    "    openai_api_key=API_KEY,\n",
    "    openai_api_base= f\"{INFERENCE_SERVER_URL}/v1\",\n",
    "    model_name=MODEL_NAME,\n",
    "    top_p=0.92,\n",
    "    temperature=0.01,\n",
    "    max_tokens=512,\n",
    "    presence_penalty=1.03,\n",
    "    streaming=True,\n",
    "    callbacks=[StreamingStdOutCallbackHandler()]\n",
    ")\n"
   ]
  },
  {
   "cell_type": "code",
   "execution_count": 2,
   "id": "d798e2d5-27b7-4d17-b9e8-adef02dac14b",
   "metadata": {},
   "outputs": [],
   "source": [
    "# 导入所需的库\n",
    "from langchain_core.output_parsers import StrOutputParser # 用于解析输出结果为字符串\n",
    "from langchain_core.prompts import ChatPromptTemplate # 用于创建聊天提示模板\n",
    "from langchain_openai import ChatOpenAI # 用于调用OpenAI的GPT模型\n",
    "\n",
    "# 创建一个聊天提示模板，其中{topic}是一个占位符，用于后续插入具体的话题\n",
    "prompt = ChatPromptTemplate.from_template(\"请讲一个关于 {topic} 的故事\")\n",
    "# 初始化ChatOpenAI对象，指定使用的模型为\"gpt-4\"\n",
    "# model = ChatOpenAI(model=\"gpt-4\")\n",
    "# 初始化一个输出解析器，用于将模型的输出解析成字符串\n",
    "output_parser = StrOutputParser()\n",
    "\n"
   ]
  },
  {
   "cell_type": "code",
   "execution_count": 3,
   "id": "69fadd42-713a-4896-96b2-ad166cbc5382",
   "metadata": {},
   "outputs": [
    {
     "name": "stdout",
     "output_type": "stream",
     "text": [
      "好的，用户让我讲一个关于水仙花的故事。首先，我需要确定用户的需求是什么。可能他们想要一个有趣的故事，或者带有寓意的故事，或者是适合儿童听的。考虑到水仙花通常与美丽、纯洁和冬天相关，我可以围绕这些主题展开。\n",
      "\n",
      "接下来，我应该考虑故事的结构。或许可以设定一个主角，比如一个孩子，发现了一颗水仙花种子，然后经历种植的过程，遇到困难，最后成功的故事。这样不仅展示了水仙花的生长过程，还能传达坚持和希望的信息。\n",
      "\n",
      "然后，我需要加入一些奇幻元素，让故事更吸引人。比如，水仙花种子会说话，或者有魔法，这样能增加故事的趣味性。同时，可以加入一些象征意义，比如水仙花代表希望或友谊。\n",
      "\n",
      "在角色设定上，除了主角，还可以有一个神秘的角色，比如一个老人或者精灵，帮助主角理解水仙花的意义。这样故事更有深度，也能传达更多的信息。\n",
      "\n",
      "场景方面，可以选择一个寒冷的冬天，主角在一个小镇上，发现了一颗被雪覆盖的种子。这样的环境能突出水仙花的坚韧和美丽。\n",
      "\n",
      "情节发展上，可以描述主角如何照顾水仙花，遇到挫折，比如天气恶劣，或者种子似乎没有反应，但最终在关键时刻，水仙花绽放，带来奇迹。这样的情节能激励读者坚持下去，无论遇到什么困难。\n",
      "\n",
      "最后，结尾部分可以总结水仙花带来的启示，比如希望的重要性，或者友情的力量。这样故事不仅美丽，还有积极的意义。\n",
      "\n",
      "总的来说，我需要构建一个温馨、富有教育意义的故事，通过水仙花的生长过程，传达坚持和希望的信息，同时加入奇幻元素，让故事更加生动有趣。\n",
      "</think>\n",
      "\n",
      "## 《水仙花的馈赠》\n",
      "\n",
      "那是一个异常寒冷的冬天，我缩着脖子走在放学的路上，呼出的白气在空中消散。小镇上的街道安静得能听见积雪下的冰层发出细微的碎裂声。\n",
      "\n",
      "转过街角时，一抹微弱的绿色突然闯入我的视线。我定睛一看，原来是在路旁的花坛里，有一小块地方的雪被人扒开，露出一点嫩绿的芽尖正在寒风中瑟瑟发抖。\n",
      "\n",
      "\"谁会在这个时候种花啊......\"我蹲下身，小心翼翼地拨开那层薄雪。这一看不要紧，我竟在土里发现了一颗完好的好的，用户让我讲一个关于水仙花的故事。首先，我需要确定用户的需求是什么。可能他们想要一个有趣的故事，或者带有寓意的故事，或者是适合儿童听的。考虑到水仙花通常与美丽、纯洁和冬天相关，我可以围绕这些主题展开。\n",
      "\n",
      "接下来，我应该考虑故事的结构。或许可以设定一个主角，比如一个孩子，发现了一颗水仙花种子，然后经历种植的过程，遇到困难，最后成功的故事。这样不仅展示了水仙花的生长过程，还能传达坚持和希望的信息。\n",
      "\n",
      "然后，我需要加入一些奇幻元素，让故事更吸引人。比如，水仙花种子会说话，或者有魔法，这样能增加故事的趣味性。同时，可以加入一些象征意义，比如水仙花代表希望或友谊。\n",
      "\n",
      "在角色设定上，除了主角，还可以有一个神秘的角色，比如一个老人或者精灵，帮助主角理解水仙花的意义。这样故事更有深度，也能传达更多的信息。\n",
      "\n",
      "场景方面，可以选择一个寒冷的冬天，主角在一个小镇上，发现了一颗被雪覆盖的种子。这样的环境能突出水仙花的坚韧和美丽。\n",
      "\n",
      "情节发展上，可以描述主角如何照顾水仙花，遇到挫折，比如天气恶劣，或者种子似乎没有反应，但最终在关键时刻，水仙花绽放，带来奇迹。这样的情节能激励读者坚持下去，无论遇到什么困难。\n",
      "\n",
      "最后，结尾部分可以总结水仙花带来的启示，比如希望的重要性，或者友情的力量。这样故事不仅美丽，还有积极的意义。\n",
      "\n",
      "总的来说，我需要构建一个温馨、富有教育意义的故事，通过水仙花的生长过程，传达坚持和希望的信息，同时加入奇幻元素，让故事更加生动有趣。\n",
      "</think>\n",
      "\n",
      "## 《水仙花的馈赠》\n",
      "\n",
      "那是一个异常寒冷的冬天，我缩着脖子走在放学的路上，呼出的白气在空中消散。小镇上的街道安静得能听见积雪下的冰层发出细微的碎裂声。\n",
      "\n",
      "转过街角时，一抹微弱的绿色突然闯入我的视线。我定睛一看，原来是在路旁的花坛里，有一小块地方的雪被人扒开，露出一点嫩绿的芽尖正在寒风中瑟瑟发抖。\n",
      "\n",
      "\"谁会在这个时候种花啊......\"我蹲下身，小心翼翼地拨开那层薄雪。这一看不要紧，我竟在土里发现了一颗完好的\n"
     ]
    }
   ],
   "source": [
    "'''使用管道操作符（|）连接各个处理步骤，创建一个处理链\n",
    "   其中prompt用于生成具体的提示文本，\n",
    "   model用于根据提示文本生成回应，\n",
    "   output_parser用于处理回应并将其转换为字符串''' \n",
    "chain = prompt | model | output_parser\n",
    "\n",
    "# 调用处理链，传入话题\"水仙花\"，执行生成故事的操作\n",
    "message = chain.invoke({\"topic\": \"水仙花\"})\n",
    "\n",
    "# 打印链的输出结果\n",
    "print(message)"
   ]
  }
 ],
 "metadata": {
  "kernelspec": {
   "display_name": "Python 3.11",
   "language": "python",
   "name": "python3"
  },
  "language_info": {
   "codemirror_mode": {
    "name": "ipython",
    "version": 3
   },
   "file_extension": ".py",
   "mimetype": "text/x-python",
   "name": "python",
   "nbconvert_exporter": "python",
   "pygments_lexer": "ipython3",
   "version": "3.11.9"
  }
 },
 "nbformat": 4,
 "nbformat_minor": 5
}
