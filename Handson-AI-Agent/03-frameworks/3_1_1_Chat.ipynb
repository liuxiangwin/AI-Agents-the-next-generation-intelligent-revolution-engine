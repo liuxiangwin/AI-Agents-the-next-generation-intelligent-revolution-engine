{
 "cells": [
  {
   "cell_type": "code",
   "execution_count": 1,
   "id": "2b29336b-d3a3-4150-9188-41d970ee7afd",
   "metadata": {},
   "outputs": [],
   "source": [
    "import getpass\n",
    "import os\n",
    "from langchain_openai import ChatOpenAI\n",
    "from langchain_community.tools.tavily_search import TavilySearchResults\n",
    "from langchain.callbacks.streaming_stdout import StreamingStdOutCallbackHandler\n",
    "\n",
    "os.environ[\"TAVILY_API_KEY\"] = \"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\"\n",
    "os.environ['ATHINA_API_KEY'] = \"IhrJrr0krTMRA9ogqi5aaD4ZuYuvMcdG\"\n",
    "\n",
    "os.environ['SERPAPI_API_KEY']= \"d79f01166cee047474b994092fd5f2462c2461490acf51ad91bf48ef10f46c28\"\n",
    "\n",
    "\n",
    "INFERENCE_SERVER_URL = \"http://localhost:8989\"\n",
    "MODEL_NAME = \"deepseek-ai/DeepSeek-R1-Distill-Qwen-14B\"\n",
    "API_KEY= \"alanliuxiang\"\n",
    "\n",
    "llm = ChatOpenAI(\n",
    "    openai_api_key=API_KEY,\n",
    "    openai_api_base= f\"{INFERENCE_SERVER_URL}/v1\",\n",
    "    model_name=MODEL_NAME,\n",
    "    top_p=0.92,\n",
    "    temperature=0.01,\n",
    "    max_tokens=512,\n",
    "    presence_penalty=1.03,\n",
    "    streaming=True,\n",
    "    callbacks=[StreamingStdOutCallbackHandler()]\n",
    ")\n"
   ]
  },
  {
   "cell_type": "code",
   "execution_count": 2,
   "id": "c0e92d81-ada4-435a-9e42-2b7c48b3e52a",
   "metadata": {},
   "outputs": [
    {
     "name": "stdout",
     "output_type": "stream",
     "text": [
      "ChatCompletion(id='chatcmpl-90993ebaf59041a9a8315bbd27bdbb71', choices=[Choice(finish_reason='stop', index=0, logprobs=None, message=ChatCompletionMessage(content='{ \"response\": \"关于送货时间，我无法提供具体信息。建议您联系当地的花店或配送服务以获取准确的预计送达时间。\" }', refusal=None, role='assistant', annotations=None, audio=None, function_call=None, tool_calls=[], reasoning_content=None), stop_reason=None)], created=1746443860, model='deepseek-ai/DeepSeek-R1-Distill-Qwen-14B', object='chat.completion', service_tier=None, system_fingerprint=None, usage=CompletionUsage(completion_tokens=35, prompt_tokens=45, total_tokens=80, completion_tokens_details=None, prompt_tokens_details=None), prompt_logprobs=None)\n"
     ]
    }
   ],
   "source": [
    "# 导入 OpenAI库\n",
    "# from openai import OpenAI\n",
    "\n",
    "# 创建 OpenAI客户端\n",
    "# client = OpenAI()\n",
    "\n",
    "from openai import OpenAI\n",
    "client = OpenAI(\n",
    "    base_url=f\"{INFERENCE_SERVER_URL}/v1\",\n",
    "    api_key=\"alanliuxiang\",\n",
    ")\n",
    "\n",
    "# completion = client.chat.completions.create(\n",
    "#   model=\"deepseek-ai/DeepSeek-R1-Distill-Qwen-14B\",\n",
    "#   messages=[\n",
    "#     {\"role\": \"user\", \"content\": \"Hello!\"}\n",
    "#   ]\n",
    "# )\n",
    "\n",
    "# print(completion.choices[0].message)\n",
    "\n",
    "# 调用chat.completions.create方法，得到响应\n",
    "response = client.chat.completions.create(\n",
    "  model=\"deepseek-ai/DeepSeek-R1-Distill-Qwen-14B\",\n",
    "  response_format={ \"type\": \"json_object\" },\n",
    "  messages=[\n",
    "    {\"role\": \"system\", \"content\": \"您是一个帮助用户了解鲜花信息的智能助手,并能够输出JSON格式的内容。\"},\n",
    "    {\"role\": \"user\", \"content\": \"生日送什么花最好？\"},\n",
    "    {\"role\": \"assistant\", \"content\": \"玫瑰是生日礼物的热门选择。\"},\n",
    "    {\"role\": \"user\", \"content\": \"送货需要多长时间？\"}\n",
    "  ]\n",
    ")\n",
    "\n",
    "print(response)\n",
    "\n",
    "\n"
   ]
  },
  {
   "cell_type": "code",
   "execution_count": 3,
   "id": "c7288ce5-45f3-4006-9212-d7cc50d09814",
   "metadata": {},
   "outputs": [],
   "source": [
    "# messages = [\n",
    "#     (\n",
    "#         \"system\",\n",
    "#         \"You are a helpful assistant that translates English to French. Translate the user sentence.\",\n",
    "#     ),\n",
    "#     (\"human\", \"I love programming.\"),\n",
    "# ]\n",
    "# ai_msg = llm.invoke(messages)\n",
    "# print(ai_msg)\n"
   ]
  },
  {
   "cell_type": "code",
   "execution_count": 4,
   "id": "61ba4ec6-ac71-44e5-83e4-2ba17e74eb47",
   "metadata": {},
   "outputs": [],
   "source": [
    "# # 打印响应\n",
    "# messages2=[\n",
    "# {\"role\": \"system\", \"content\": \"您是一个帮助用户了解鲜花信息的智能助手,并能够输出JSON格式的内容。\"},\n",
    "# {\"role\": \"user\", \"content\": \"生日送什么花最好？\"},\n",
    "# {\"role\": \"assistant\", \"content\": \"玫瑰是生日礼物的热门选择。\"},\n",
    "# {\"role\": \"user\", \"content\": \"送货需要多长时间？\"}\n",
    "# ]\n",
    "\n",
    "# ai_msg2 = llm.invoke(messages2)\n",
    "# print(ai_msg2)"
   ]
  }
 ],
 "metadata": {
  "kernelspec": {
   "display_name": "Python 3.11",
   "language": "python",
   "name": "python3"
  },
  "language_info": {
   "codemirror_mode": {
    "name": "ipython",
    "version": 3
   },
   "file_extension": ".py",
   "mimetype": "text/x-python",
   "name": "python",
   "nbconvert_exporter": "python",
   "pygments_lexer": "ipython3",
   "version": "3.11.9"
  }
 },
 "nbformat": 4,
 "nbformat_minor": 5
}
