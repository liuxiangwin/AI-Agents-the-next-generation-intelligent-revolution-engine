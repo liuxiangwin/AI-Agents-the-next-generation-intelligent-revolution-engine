{
 "cells": [
  {
   "cell_type": "code",
   "execution_count": 1,
   "id": "eafc07ae-ae2c-4dc7-8c3a-43265e608b59",
   "metadata": {},
   "outputs": [],
   "source": [
    "import os\n",
    "import uuid\n",
    "\n",
    "import fire\n",
    "from llama_stack_client import LlamaStackClient\n",
    "from llama_stack_client.lib.agents.react.agent import ReActAgent\n",
    "from llama_stack_client.lib.agents.react.tool_parser import ReActOutput\n",
    "from llama_stack_client.lib.agents.event_logger import EventLogger\n",
    "from termcolor import colored\n",
    "\n",
    "\n",
    "def main():\n",
    "    client = LlamaStackClient(\n",
    "        base_url=\"http://localhost:8321\"\n",
    "    )\n",
    "\n",
    "    available_models = [\n",
    "        model.identifier for model in client.models.list() if model.model_type == \"llm\"\n",
    "    ]\n",
    "    print(available_models)\n",
    "    \n",
    "    if not available_models:\n",
    "        print(colored(\"No available models. Exiting.\", \"red\"))\n",
    "        return\n",
    "\n",
    "    selected_model = available_models[0]\n",
    "    print(colored(f\"Using model: {selected_model}\", \"green\"))\n",
    "\n",
    "    # Initialize ReActAgent with just websearch\n",
    "    agent = ReActAgent(\n",
    "        client=client,\n",
    "        model=selected_model,\n",
    "        # model=\"mistralai/Mistral-7B-Instruct-v0.3\",\n",
    "        # model=\"deepseek-ai/DeepSeek-R1-Distill-Qwen-7B\"\n",
    "        tools=[\n",
    "            \"mcp::weather\",\n",
    "            ],\n",
    "        response_format={\n",
    "            \"type\": \"json_schema\",\n",
    "            \"json_schema\": ReActOutput.model_json_schema(),\n",
    "        },\n",
    "        sampling_params={\n",
    "            \"strategy\": {\"type\": \"top_p\", \"temperature\": 1.0, \"top_p\": 0.9},\n",
    "        }\n",
    "    )\n",
    "\n",
    "    session_id = agent.create_session(f\"react-session-{uuid.uuid4().hex}\")\n",
    "\n",
    "    user_prompts = [\n",
    "        \"Find out what is the best day this week to go for a walk in New York and explain why?\",\n",
    "    ]\n",
    "\n",
    "    for prompt in user_prompts:\n",
    "        print(colored(f\"User> {prompt}\", \"blue\"))\n",
    "        response = agent.create_turn(\n",
    "            messages=[{\"role\": \"user\", \"content\": prompt}],\n",
    "            session_id=session_id,\n",
    "            stream=True,\n",
    "        )\n",
    "\n",
    "        for log in EventLogger().log(response):\n",
    "            log.print()"
   ]
  },
  {
   "cell_type": "code",
   "execution_count": 2,
   "id": "dc3f0fea-38fd-4181-97f5-88ca6040f8ef",
   "metadata": {},
   "outputs": [
    {
     "name": "stdout",
     "output_type": "stream",
     "text": [
      "['ibm-granite/granite-3.3-2b-instruct', 'meta-llama/Llama-Guard-3-8B']\n",
      "\u001b[32mUsing model: ibm-granite/granite-3.3-2b-instruct\u001b[0m\n",
      "\u001b[34mUser> Find out what is the best day this week to go for a walk in New York and explain why?\u001b[0m\n",
      "\u001b[33minference> \u001b[0m\u001b[33m{\u001b[0m\u001b[33m\n",
      "   \u001b[0m\u001b[33m \"\u001b[0m\u001b[33mthought\u001b[0m\u001b[33m\":\u001b[0m\u001b[33m \"\u001b[0m\u001b[33mTo\u001b[0m\u001b[33m answer\u001b[0m\u001b[33m this\u001b[0m\u001b[33m question\u001b[0m\u001b[33m,\u001b[0m\u001b[33m I\u001b[0m\u001b[33m need\u001b[0m\u001b[33m to\u001b[0m\u001b[33m retrieve\u001b[0m\u001b[33m the\u001b[0m\u001b[33m weather\u001b[0m\u001b[33m forecast\u001b[0m\u001b[33m for\u001b[0m\u001b[33m New\u001b[0m\u001b[33m York\u001b[0m\u001b[33m this\u001b[0m\u001b[33m week\u001b[0m\u001b[33m and\u001b[0m\u001b[33m identify\u001b[0m\u001b[33m a\u001b[0m\u001b[33m day\u001b[0m\u001b[33m with\u001b[0m\u001b[33m favor\u001b[0m\u001b[33mable\u001b[0m\u001b[33m conditions\u001b[0m\u001b[33m for\u001b[0m\u001b[33m a\u001b[0m\u001b[33m walk\u001b[0m\u001b[33m.\u001b[0m\u001b[33m I\u001b[0m\u001b[33m will\u001b[0m\u001b[33m use\u001b[0m\u001b[33m the\u001b[0m\u001b[33m '\u001b[0m\u001b[33mget\u001b[0m\u001b[33mforecast\u001b[0m\u001b[33m'\u001b[0m\u001b[33m tool\u001b[0m\u001b[33m.\",\u001b[0m\u001b[33m\n",
      "   \u001b[0m\u001b[33m \"\u001b[0m\u001b[33maction\u001b[0m\u001b[33m\":\u001b[0m\u001b[33m {\u001b[0m\u001b[33m\n",
      "       \u001b[0m\u001b[33m \"\u001b[0m\u001b[33mtool\u001b[0m\u001b[33m_\u001b[0m\u001b[33mname\u001b[0m\u001b[33m\":\u001b[0m\u001b[33m \"\u001b[0m\u001b[33mget\u001b[0m\u001b[33mforecast\u001b[0m\u001b[33m\",\u001b[0m\u001b[33m\n",
      "       \u001b[0m\u001b[33m \"\u001b[0m\u001b[33mtool\u001b[0m\u001b[33m_\u001b[0m\u001b[33mparams\u001b[0m\u001b[33m\":\u001b[0m\u001b[33m [\u001b[0m\u001b[33m\n",
      "           \u001b[0m\u001b[33m {\u001b[0m\u001b[33m\n",
      "               \u001b[0m\u001b[33m \"\u001b[0m\u001b[33mname\u001b[0m\u001b[33m\":\u001b[0m\u001b[33m \"\u001b[0m\u001b[33mlatitude\u001b[0m\u001b[33m\",\u001b[0m\u001b[33m\n",
      "               \u001b[0m\u001b[33m \"\u001b[0m\u001b[33mvalue\u001b[0m\u001b[33m\":\u001b[0m\u001b[33m \"\u001b[0m\u001b[33m4\u001b[0m\u001b[33m0\u001b[0m\u001b[33m.\u001b[0m\u001b[33m7\u001b[0m\u001b[33m1\u001b[0m\u001b[33m2\u001b[0m\u001b[33m8\u001b[0m\u001b[33m\"\u001b[0m\u001b[33m\n",
      "           \u001b[0m\u001b[33m },\u001b[0m\u001b[33m\n",
      "           \u001b[0m\u001b[33m {\u001b[0m\u001b[33m\n",
      "               \u001b[0m\u001b[33m \"\u001b[0m\u001b[33mname\u001b[0m\u001b[33m\":\u001b[0m\u001b[33m \"\u001b[0m\u001b[33mlongitude\u001b[0m\u001b[33m\",\u001b[0m\u001b[33m\n",
      "               \u001b[0m\u001b[33m \"\u001b[0m\u001b[33mvalue\u001b[0m\u001b[33m\":\u001b[0m\u001b[33m \"-\u001b[0m\u001b[33m7\u001b[0m\u001b[33m4\u001b[0m\u001b[33m.\u001b[0m\u001b[33m0\u001b[0m\u001b[33m0\u001b[0m\u001b[33m6\u001b[0m\u001b[33m0\u001b[0m\u001b[33m\"\u001b[0m\u001b[33m\n",
      "           \u001b[0m\u001b[33m }\u001b[0m\u001b[33m\n",
      "       \u001b[0m\u001b[33m ]\u001b[0m\u001b[33m\n",
      "   \u001b[0m\u001b[33m },\u001b[0m\u001b[33m\n",
      "   \u001b[0m\u001b[33m \"\u001b[0m\u001b[33manswer\u001b[0m\u001b[33m\":\u001b[0m\u001b[33m null\u001b[0m\u001b[33m\n",
      "\u001b[0m\u001b[33m}\u001b[0m\u001b[97m\u001b[0m\n",
      "\u001b[30m\u001b[0m\u001b[32mtool_execution> Tool:getforecast Response:{\"type\":\"text\",\"text\":\"Forecast for 40.7128, -74.0060:\\n\\nOvernight:\\nTemperature: 66°F\\nWind: 3 mph E\\nAreas Of Fog\\n---\\nTuesday:\\nTemperature: 76°F\\nWind: 3 to 7 mph SE\\nAreas Of Fog\\n---\\nTuesday Night:\\nTemperature: 66°F\\nWind: 5 to 8 mph W\\nChance Showers And Thunderstorms then Partly Cloudy\\n---\\nWednesday:\\nTemperature: 82°F\\nWind: 5 to 10 mph W\\nSunny\\n---\\nWednesday Night:\\nTemperature: 71°F\\nWind: 10 mph SW\\nMostly Clear\\n---\\nThursday:\\nTemperature: 84°F\\nWind: 10 mph W\\nSunny\\n---\\nThursday Night:\\nTemperature: 69°F\\nWind: 6 to 10 mph NW\\nSlight Chance Showers And Thunderstorms\\n---\\nFriday:\\nTemperature: 76°F\\nWind: 6 to 9 mph E\\nPartly Sunny then Slight Chance Rain Showers\\n---\\nFriday Night:\\nTemperature: 66°F\\nWind: 6 to 9 mph E\\nChance Showers And Thunderstorms\\n---\\nSaturday:\\nTemperature: 70°F\\nWind: 12 mph E\\nChance Rain Showers\\n---\\nSaturday Night:\\nTemperature: 64°F\\nWind: 12 mph E\\nChance Showers And Thunderstorms\\n---\\nSunday:\\nTemperature: 69°F\\nWind: 13 mph E\\nChance Rain Showers\\n---\\nSunday Night:\\nTemperature: 65°F\\nWind: 8 to 12 mph E\\nChance Rain Showers\\n---\\nMonday:\\nTemperature: 71°F\\nWind: 10 mph E\\nChance Rain Showers\\n---\",\"annotations\":null}\u001b[0m\n",
      "\u001b[33minference> \u001b[0m\u001b[33m{\u001b[0m\u001b[33m\n",
      "   \u001b[0m\u001b[33m \"\u001b[0m\u001b[33mthought\u001b[0m\u001b[33m\":\u001b[0m\u001b[33m \"\u001b[0m\u001b[33mThe\u001b[0m\u001b[33m best\u001b[0m\u001b[33m day\u001b[0m\u001b[33m this\u001b[0m\u001b[33m week\u001b[0m\u001b[33m for\u001b[0m\u001b[33m a\u001b[0m\u001b[33m walk\u001b[0m\u001b[33m in\u001b[0m\u001b[33m New\u001b[0m\u001b[33m York\u001b[0m\u001b[33m,\u001b[0m\u001b[33m based\u001b[0m\u001b[33m on\u001b[0m\u001b[33m the\u001b[0m\u001b[33m forecast\u001b[0m\u001b[33m,\u001b[0m\u001b[33m would\u001b[0m\u001b[33m be\u001b[0m\u001b[33m T\u001b[0m\u001b[33muesday\u001b[0m\u001b[33m.\u001b[0m\u001b[33m The\u001b[0m\u001b[33m reason\u001b[0m\u001b[33m is\u001b[0m\u001b[33m the\u001b[0m\u001b[33m ple\u001b[0m\u001b[33mas\u001b[0m\u001b[33mant\u001b[0m\u001b[33m temperature\u001b[0m\u001b[33m and\u001b[0m\u001b[33m clear\u001b[0m\u001b[33m sk\u001b[0m\u001b[33mies\u001b[0m\u001b[33m with\u001b[0m\u001b[33m no\u001b[0m\u001b[33m mention\u001b[0m\u001b[33m of\u001b[0m\u001b[33m rain\u001b[0m\u001b[33m or\u001b[0m\u001b[33m heavy\u001b[0m\u001b[33m fog\u001b[0m\u001b[33m.\u001b[0m\u001b[33m The\u001b[0m\u001b[33m temperature\u001b[0m\u001b[33m will\u001b[0m\u001b[33m reach\u001b[0m\u001b[33m a\u001b[0m\u001b[33m comfort\u001b[0m\u001b[33mable\u001b[0m\u001b[33m \u001b[0m\u001b[33m7\u001b[0m\u001b[33m6\u001b[0m\u001b[33m°\u001b[0m\u001b[33mF\u001b[0m\u001b[33m with\u001b[0m\u001b[33m a\u001b[0m\u001b[33m light\u001b[0m\u001b[33m b\u001b[0m\u001b[33mreeze\u001b[0m\u001b[33m coming\u001b[0m\u001b[33m from\u001b[0m\u001b[33m the\u001b[0m\u001b[33m S\u001b[0m\u001b[33mout\u001b[0m\u001b[33mheast\u001b[0m\u001b[33m.\",\u001b[0m\u001b[33m\n",
      "   \u001b[0m\u001b[33m \"\u001b[0m\u001b[33maction\u001b[0m\u001b[33m\":\u001b[0m\u001b[33m null\u001b[0m\u001b[33m,\u001b[0m\u001b[33m\n",
      "   \u001b[0m\u001b[33m \"\u001b[0m\u001b[33manswer\u001b[0m\u001b[33m\":\u001b[0m\u001b[33m \"\u001b[0m\u001b[33mTuesday\u001b[0m\u001b[33m\"\u001b[0m\u001b[33m\n",
      "\u001b[0m\u001b[33m}\u001b[0m\u001b[97m\u001b[0m\n",
      "\u001b[30m\u001b[0m"
     ]
    },
    {
     "name": "stderr",
     "output_type": "stream",
     "text": [
      "\u001b[1m\u001b[31mERROR: \u001b[0mCould not consume arg: -f\n",
      "Usage: ipykernel_launcher.py\n",
      "\n",
      "For detailed information on this command, run:\n",
      "  ipykernel_launcher.py --help\n"
     ]
    },
    {
     "ename": "FireExit",
     "evalue": "2",
     "output_type": "error",
     "traceback": [
      "An exception has occurred, use %tb to see the full traceback.\n",
      "\u001b[0;31mFireExit\u001b[0m\u001b[0;31m:\u001b[0m 2\n"
     ]
    },
    {
     "name": "stderr",
     "output_type": "stream",
     "text": [
      "/opt/app-root/lib64/python3.11/site-packages/IPython/core/interactiveshell.py:3587: UserWarning: To exit: use 'exit', 'quit', or Ctrl-D.\n",
      "  warn(\"To exit: use 'exit', 'quit', or Ctrl-D.\", stacklevel=1)\n"
     ]
    }
   ],
   "source": [
    "if __name__ == \"__main__\":\n",
    "    fire.Fire(main)"
   ]
  }
 ],
 "metadata": {
  "kernelspec": {
   "display_name": "Python 3.11",
   "language": "python",
   "name": "python3"
  },
  "language_info": {
   "codemirror_mode": {
    "name": "ipython",
    "version": 3
   },
   "file_extension": ".py",
   "mimetype": "text/x-python",
   "name": "python",
   "nbconvert_exporter": "python",
   "pygments_lexer": "ipython3",
   "version": "3.11.9"
  }
 },
 "nbformat": 4,
 "nbformat_minor": 5
}
