{
 "cells": [
  {
   "cell_type": "code",
   "execution_count": 1,
   "id": "523a1d6f-d09b-4e2c-8394-40654a642bb6",
   "metadata": {},
   "outputs": [
    {
     "name": "stdout",
     "output_type": "stream",
     "text": [
      "\u001b[33minference> \u001b[0m\u001b[33m\u001b[0m\u001b[97m\u001b[0m\n",
      "\u001b[32mtool_execution> Tool:getforecast Args:{'latitude': '47.6062', 'longitude': '-122.3321'}\u001b[0m\n",
      "\u001b[32mtool_execution> Tool:getforecast Response:{\"type\":\"text\",\"text\":\"Forecast for 47.6062, -122.3321:\\n\\nOvernight:\\nTemperature: 59°F\\nWind: 2 mph NW\\nMostly Clear\\n---\\nTuesday:\\nTemperature: 81°F\\nWind: 5 mph WNW\\nSunny\\n---\\nTuesday Night:\\nTemperature: 55°F\\nWind: 5 mph WNW\\nMostly Clear\\n---\\nWednesday:\\nTemperature: 77°F\\nWind: 5 to 10 mph SSW\\nMostly Sunny\\n---\\nWednesday Night:\\nTemperature: 54°F\\nWind: 6 to 10 mph SSW\\nMostly Cloudy\\n---\\nThursday:\\nTemperature: 70°F\\nWind: 6 to 12 mph SW\\nPartly Sunny\\n---\\nThursday Night:\\nTemperature: 51°F\\nWind: 6 to 12 mph SSW\\nMostly Cloudy\\n---\\nFriday:\\nTemperature: 68°F\\nWind: 6 to 9 mph SSW\\nPartly Sunny\\n---\\nFriday Night:\\nTemperature: 50°F\\nWind: 3 to 9 mph SW\\nPartly Cloudy\\n---\\nSaturday:\\nTemperature: 71°F\\nWind: 3 to 9 mph WSW\\nMostly Sunny\\n---\\nSaturday Night:\\nTemperature: 50°F\\nWind: 3 to 9 mph N\\nMostly Clear\\n---\\nSunday:\\nTemperature: 72°F\\nWind: 6 mph SW\\nMostly Sunny\\n---\\nSunday Night:\\nTemperature: 52°F\\nWind: 6 mph NNW\\nPartly Cloudy\\n---\\nMonday:\\nTemperature: 72°F\\nWind: 3 to 7 mph SW\\nChance Rain Showers\\n---\",\"annotations\":null}\u001b[0m\n",
      "\u001b[33minference> \u001b[0m\u001b[33mThe\u001b[0m\u001b[33m forecast\u001b[0m\u001b[33m for\u001b[0m\u001b[33m Se\u001b[0m\u001b[33mattle\u001b[0m\u001b[33m,\u001b[0m\u001b[33m with\u001b[0m\u001b[33m a\u001b[0m\u001b[33m latitude\u001b[0m\u001b[33m of\u001b[0m\u001b[33m \u001b[0m\u001b[33m4\u001b[0m\u001b[33m7\u001b[0m\u001b[33m.\u001b[0m\u001b[33m6\u001b[0m\u001b[33m0\u001b[0m\u001b[33m6\u001b[0m\u001b[33m2\u001b[0m\u001b[33m and\u001b[0m\u001b[33m longitude\u001b[0m\u001b[33m of\u001b[0m\u001b[33m -\u001b[0m\u001b[33m1\u001b[0m\u001b[33m2\u001b[0m\u001b[33m2\u001b[0m\u001b[33m.\u001b[0m\u001b[33m3\u001b[0m\u001b[33m3\u001b[0m\u001b[33m2\u001b[0m\u001b[33m1\u001b[0m\u001b[33m,\u001b[0m\u001b[33m is\u001b[0m\u001b[33m as\u001b[0m\u001b[33m follows\u001b[0m\u001b[33m:\u001b[0m\u001b[33m\n",
      "\u001b[0m\u001b[33m\n",
      "\u001b[0m\u001b[33m-\u001b[0m\u001b[33m Over\u001b[0m\u001b[33mnight\u001b[0m\u001b[33m:\u001b[0m\u001b[33m Most\u001b[0m\u001b[33mly\u001b[0m\u001b[33m Clear\u001b[0m\u001b[33m,\u001b[0m\u001b[33m temperature\u001b[0m\u001b[33m \u001b[0m\u001b[33m5\u001b[0m\u001b[33m9\u001b[0m\u001b[33m°\u001b[0m\u001b[33mF\u001b[0m\u001b[33m,\u001b[0m\u001b[33m wind\u001b[0m\u001b[33m \u001b[0m\u001b[33m2\u001b[0m\u001b[33m mp\u001b[0m\u001b[33mh\u001b[0m\u001b[33m N\u001b[0m\u001b[33mW\u001b[0m\u001b[33m\n",
      "\u001b[0m\u001b[33m-\u001b[0m\u001b[33m T\u001b[0m\u001b[33muesday\u001b[0m\u001b[33m:\u001b[0m\u001b[33m Sun\u001b[0m\u001b[33mny\u001b[0m\u001b[33m,\u001b[0m\u001b[33m temperature\u001b[0m\u001b[33m \u001b[0m\u001b[33m8\u001b[0m\u001b[33m1\u001b[0m\u001b[33m°\u001b[0m\u001b[33mF\u001b[0m\u001b[33m,\u001b[0m\u001b[33m wind\u001b[0m\u001b[33m \u001b[0m\u001b[33m5\u001b[0m\u001b[33m mp\u001b[0m\u001b[33mh\u001b[0m\u001b[33m W\u001b[0m\u001b[33mNW\u001b[0m\u001b[33m\n",
      "\u001b[0m\u001b[33m-\u001b[0m\u001b[33m T\u001b[0m\u001b[33muesday\u001b[0m\u001b[33m Night\u001b[0m\u001b[33m:\u001b[0m\u001b[33m Most\u001b[0m\u001b[33mly\u001b[0m\u001b[33m Clear\u001b[0m\u001b[33m,\u001b[0m\u001b[33m temperature\u001b[0m\u001b[33m \u001b[0m\u001b[33m5\u001b[0m\u001b[33m5\u001b[0m\u001b[33m°\u001b[0m\u001b[33mF\u001b[0m\u001b[33m,\u001b[0m\u001b[33m wind\u001b[0m\u001b[33m \u001b[0m\u001b[33m5\u001b[0m\u001b[33m mp\u001b[0m\u001b[33mh\u001b[0m\u001b[33m W\u001b[0m\u001b[33mNW\u001b[0m\u001b[33m\n",
      "\u001b[0m\u001b[33m-\u001b[0m\u001b[33m Wed\u001b[0m\u001b[33mnesday\u001b[0m\u001b[33m:\u001b[0m\u001b[33m Most\u001b[0m\u001b[33mly\u001b[0m\u001b[33m Sun\u001b[0m\u001b[33mny\u001b[0m\u001b[33m,\u001b[0m\u001b[33m temperature\u001b[0m\u001b[33m \u001b[0m\u001b[33m7\u001b[0m\u001b[33m7\u001b[0m\u001b[33m°\u001b[0m\u001b[33mF\u001b[0m\u001b[33m,\u001b[0m\u001b[33m wind\u001b[0m\u001b[33m \u001b[0m\u001b[33m5\u001b[0m\u001b[33m to\u001b[0m\u001b[33m \u001b[0m\u001b[33m1\u001b[0m\u001b[33m0\u001b[0m\u001b[33m mp\u001b[0m\u001b[33mh\u001b[0m\u001b[33m S\u001b[0m\u001b[33mSW\u001b[0m\u001b[33m\n",
      "\u001b[0m\u001b[33m-\u001b[0m\u001b[33m Wed\u001b[0m\u001b[33mnesday\u001b[0m\u001b[33m Night\u001b[0m\u001b[33m:\u001b[0m\u001b[33m Most\u001b[0m\u001b[33mly\u001b[0m\u001b[33m Cloud\u001b[0m\u001b[33my\u001b[0m\u001b[33m,\u001b[0m\u001b[33m temperature\u001b[0m\u001b[33m \u001b[0m\u001b[33m5\u001b[0m\u001b[33m4\u001b[0m\u001b[33m°\u001b[0m\u001b[33mF\u001b[0m\u001b[33m,\u001b[0m\u001b[33m wind\u001b[0m\u001b[33m \u001b[0m\u001b[33m6\u001b[0m\u001b[33m to\u001b[0m\u001b[33m \u001b[0m\u001b[33m1\u001b[0m\u001b[33m0\u001b[0m\u001b[33m mp\u001b[0m\u001b[33mh\u001b[0m\u001b[33m S\u001b[0m\u001b[33mSW\u001b[0m\u001b[33m\n",
      "\u001b[0m\u001b[33m-\u001b[0m\u001b[33m Th\u001b[0m\u001b[33mursday\u001b[0m\u001b[33m:\u001b[0m\u001b[33m Part\u001b[0m\u001b[33mly\u001b[0m\u001b[33m Sun\u001b[0m\u001b[33mny\u001b[0m\u001b[33m,\u001b[0m\u001b[33m temperature\u001b[0m\u001b[33m \u001b[0m\u001b[33m7\u001b[0m\u001b[33m0\u001b[0m\u001b[33m°\u001b[0m\u001b[33mF\u001b[0m\u001b[33m,\u001b[0m\u001b[33m wind\u001b[0m\u001b[33m \u001b[0m\u001b[33m6\u001b[0m\u001b[33m to\u001b[0m\u001b[33m \u001b[0m\u001b[33m1\u001b[0m\u001b[33m2\u001b[0m\u001b[33m mp\u001b[0m\u001b[33mh\u001b[0m\u001b[33m SW\u001b[0m\u001b[33m\n",
      "\u001b[0m\u001b[33m-\u001b[0m\u001b[33m Th\u001b[0m\u001b[33mursday\u001b[0m\u001b[33m Night\u001b[0m\u001b[33m:\u001b[0m\u001b[33m Most\u001b[0m\u001b[33mly\u001b[0m\u001b[33m Cloud\u001b[0m\u001b[33my\u001b[0m\u001b[33m,\u001b[0m\u001b[33m temperature\u001b[0m\u001b[33m \u001b[0m\u001b[33m5\u001b[0m\u001b[33m1\u001b[0m\u001b[33m°\u001b[0m\u001b[33mF\u001b[0m\u001b[33m,\u001b[0m\u001b[33m wind\u001b[0m\u001b[33m \u001b[0m\u001b[33m6\u001b[0m\u001b[33m to\u001b[0m\u001b[33m \u001b[0m\u001b[33m1\u001b[0m\u001b[33m2\u001b[0m\u001b[33m mp\u001b[0m\u001b[33mh\u001b[0m\u001b[33m S\u001b[0m\u001b[33mSW\u001b[0m\u001b[33m\n",
      "\u001b[0m\u001b[33m-\u001b[0m\u001b[33m F\u001b[0m\u001b[33mriday\u001b[0m\u001b[33m:\u001b[0m\u001b[33m Part\u001b[0m\u001b[33mly\u001b[0m\u001b[33m Sun\u001b[0m\u001b[33mny\u001b[0m\u001b[33m,\u001b[0m\u001b[33m temperature\u001b[0m\u001b[33m \u001b[0m\u001b[33m6\u001b[0m\u001b[33m8\u001b[0m\u001b[33m°\u001b[0m\u001b[33mF\u001b[0m\u001b[33m,\u001b[0m\u001b[33m wind\u001b[0m\u001b[33m \u001b[0m\u001b[33m6\u001b[0m\u001b[33m to\u001b[0m\u001b[33m \u001b[0m\u001b[33m9\u001b[0m\u001b[33m mp\u001b[0m\u001b[33mh\u001b[0m\u001b[33m S\u001b[0m\u001b[33mSW\u001b[0m\u001b[33m\n",
      "\u001b[0m\u001b[33m-\u001b[0m\u001b[33m F\u001b[0m\u001b[33mriday\u001b[0m\u001b[33m Night\u001b[0m\u001b[33m:\u001b[0m\u001b[33m Part\u001b[0m\u001b[33mly\u001b[0m\u001b[33m Cloud\u001b[0m\u001b[33my\u001b[0m\u001b[33m,\u001b[0m\u001b[33m temperature\u001b[0m\u001b[33m \u001b[0m\u001b[33m5\u001b[0m\u001b[33m0\u001b[0m\u001b[33m°\u001b[0m\u001b[33mF\u001b[0m\u001b[33m,\u001b[0m\u001b[33m wind\u001b[0m\u001b[33m \u001b[0m\u001b[33m3\u001b[0m\u001b[33m to\u001b[0m\u001b[33m \u001b[0m\u001b[33m9\u001b[0m\u001b[33m mp\u001b[0m\u001b[33mh\u001b[0m\u001b[33m SW\u001b[0m\u001b[33m\n",
      "\u001b[0m\u001b[33m-\u001b[0m\u001b[33m S\u001b[0m\u001b[33maturday\u001b[0m\u001b[33m:\u001b[0m\u001b[33m Most\u001b[0m\u001b[33mly\u001b[0m\u001b[33m Sun\u001b[0m\u001b[33mny\u001b[0m\u001b[33m,\u001b[0m\u001b[33m temperature\u001b[0m\u001b[33m \u001b[0m\u001b[33m7\u001b[0m\u001b[33m1\u001b[0m\u001b[33m°\u001b[0m\u001b[33mF\u001b[0m\u001b[33m,\u001b[0m\u001b[33m wind\u001b[0m\u001b[33m \u001b[0m\u001b[33m3\u001b[0m\u001b[33m to\u001b[0m\u001b[33m \u001b[0m\u001b[33m9\u001b[0m\u001b[33m mp\u001b[0m\u001b[33mh\u001b[0m\u001b[33m W\u001b[0m\u001b[33mSW\u001b[0m\u001b[33m\n",
      "\u001b[0m\u001b[33m-\u001b[0m\u001b[33m S\u001b[0m\u001b[33maturday\u001b[0m\u001b[33m Night\u001b[0m\u001b[33m:\u001b[0m\u001b[33m Most\u001b[0m\u001b[33mly\u001b[0m\u001b[33m Clear\u001b[0m\u001b[33m,\u001b[0m\u001b[33m temperature\u001b[0m\u001b[33m \u001b[0m\u001b[33m5\u001b[0m\u001b[33m0\u001b[0m\u001b[33m°\u001b[0m\u001b[33mF\u001b[0m\u001b[33m,\u001b[0m\u001b[33m wind\u001b[0m\u001b[33m \u001b[0m\u001b[33m3\u001b[0m\u001b[33m to\u001b[0m\u001b[33m \u001b[0m\u001b[33m9\u001b[0m\u001b[33m mp\u001b[0m\u001b[33mh\u001b[0m\u001b[33m N\u001b[0m\u001b[33m\n",
      "\u001b[0m\u001b[33m-\u001b[0m\u001b[33m S\u001b[0m\u001b[33munday\u001b[0m\u001b[33m:\u001b[0m\u001b[33m Most\u001b[0m\u001b[33mly\u001b[0m\u001b[33m Sun\u001b[0m\u001b[33mny\u001b[0m\u001b[33m,\u001b[0m\u001b[33m temperature\u001b[0m\u001b[33m \u001b[0m\u001b[33m7\u001b[0m\u001b[33m2\u001b[0m\u001b[33m°\u001b[0m\u001b[33mF\u001b[0m\u001b[33m,\u001b[0m\u001b[33m wind\u001b[0m\u001b[33m \u001b[0m\u001b[33m6\u001b[0m\u001b[33m mp\u001b[0m\u001b[33mh\u001b[0m\u001b[33m SW\u001b[0m\u001b[33m\n",
      "\u001b[0m\u001b[33m-\u001b[0m\u001b[33m S\u001b[0m\u001b[33munday\u001b[0m\u001b[33m Night\u001b[0m\u001b[33m:\u001b[0m\u001b[33m Part\u001b[0m\u001b[33mly\u001b[0m\u001b[33m Cloud\u001b[0m\u001b[33my\u001b[0m\u001b[33m,\u001b[0m\u001b[33m temperature\u001b[0m\u001b[33m \u001b[0m\u001b[33m5\u001b[0m\u001b[33m2\u001b[0m\u001b[33m°\u001b[0m\u001b[33mF\u001b[0m\u001b[33m,\u001b[0m\u001b[33m wind\u001b[0m\u001b[33m \u001b[0m\u001b[33m6\u001b[0m\u001b[33m mp\u001b[0m\u001b[33mh\u001b[0m\u001b[33m N\u001b[0m\u001b[33mNW\u001b[0m\u001b[33m\n",
      "\u001b[0m\u001b[33m-\u001b[0m\u001b[33m Monday\u001b[0m\u001b[33m:\u001b[0m\u001b[33m Ch\u001b[0m\u001b[33mance\u001b[0m\u001b[33m R\u001b[0m\u001b[33main\u001b[0m\u001b[33m Show\u001b[0m\u001b[33mers\u001b[0m\u001b[33m,\u001b[0m\u001b[33m temperature\u001b[0m\u001b[33m \u001b[0m\u001b[33m7\u001b[0m\u001b[33m2\u001b[0m\u001b[33m°\u001b[0m\u001b[33mF\u001b[0m\u001b[33m,\u001b[0m\u001b[33m wind\u001b[0m\u001b[33m \u001b[0m\u001b[33m3\u001b[0m\u001b[33m to\u001b[0m\u001b[33m \u001b[0m\u001b[33m7\u001b[0m\u001b[33m mp\u001b[0m\u001b[33mh\u001b[0m\u001b[33m SW\u001b[0m\u001b[97m\u001b[0m\n",
      "\u001b[30m\u001b[0m"
     ]
    }
   ],
   "source": [
    "from llama_stack_client.lib.agents.event_logger import EventLogger\n",
    "base_url = \"http://localhost:8321\"\n",
    "\n",
    "from llama_stack_client import LlamaStackClient\n",
    "\n",
    "client = LlamaStackClient(base_url=\"http://localhost:8321\")\n",
    "\n",
    "# System prompt configures the assistant behavior\n",
    "sys_prompt1 = \"\"\"You are a helpful assistant. Use tools to answer. When you use a tool always respond with a summary of the result.\"\"\"\n",
    "\n",
    "from llama_stack_client import Agent\n",
    "\n",
    "# Create an agent that will use the weather toolgroup\n",
    "agent = Agent(\n",
    "    client,\n",
    "    # model=\"deepseek-ai/DeepSeek-R1-Distill-Qwen-14B\",\n",
    "    # model=\"ibm-granite/granite-3.0-8b-instruct\",\n",
    "    # model=\"Qwen/Qwen3-14B\",\n",
    "    model=\"ibm-granite/granite-3.3-2b-instruct\",\n",
    "    instructions=sys_prompt1,\n",
    "    tools=[\"mcp::weather\"],\n",
    "    tool_config={\"tool_choice\":\"auto\"},\n",
    ")\n",
    "\n",
    "user_prompts = [\"What's the weather in Seattle?\"]\n",
    "session_id = agent.create_session(session_name=\"weather_demo\")\n",
    "\n",
    "for prompt in user_prompts:\n",
    "    turn_response = agent.create_turn(\n",
    "        messages=[\n",
    "            {\n",
    "            \"role\": \"user\",\n",
    "            \"content\": prompt\n",
    "            }\n",
    "        ],\n",
    "        session_id=session_id,\n",
    "        stream=True,\n",
    "    )\n",
    "for log in EventLogger().log(turn_response):\n",
    "    log.print()"
   ]
  }
 ],
 "metadata": {
  "kernelspec": {
   "display_name": "Python 3.11",
   "language": "python",
   "name": "python3"
  },
  "language_info": {
   "codemirror_mode": {
    "name": "ipython",
    "version": 3
   },
   "file_extension": ".py",
   "mimetype": "text/x-python",
   "name": "python",
   "nbconvert_exporter": "python",
   "pygments_lexer": "ipython3",
   "version": "3.11.9"
  }
 },
 "nbformat": 4,
 "nbformat_minor": 5
}
