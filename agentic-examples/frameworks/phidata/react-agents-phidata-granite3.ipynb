{
 "cells": [
  {
   "cell_type": "markdown",
   "id": "766aaa81-96e6-42dc-b29d-8216d2a7feec",
   "metadata": {},
   "source": [
    "## Agentic AI (ReAct) with PhiData\n",
    "\n",
    "### LLM Used - Granite3.1-8B"
   ]
  },
  {
   "cell_type": "markdown",
   "id": "a544e6b6",
   "metadata": {},
   "source": [
    "In this notebook, you will learn how to create and deploy a ReAct (Reasoning + Acting) agent capable of solving complex tasks by combining logical reasoning with external tool usage. The agent will use a structured loop of Thought → Action → Observation to iteratively reason through problems, gather data, and provide solutions."
   ]
  },
  {
   "cell_type": "markdown",
   "id": "7609e856",
   "metadata": {},
   "source": [
    "> NOTE: This notebook requires vLLM 0.6.4 onwards that includes [Tool Calling / Function Calling](https://docs.vllm.ai/en/latest/serving/openai_compatible_server.html#ibm-granite).\n",
    "    A custom Service Runtime is used with the following parameters:\n",
    "```\n",
    "    - --enable-auto-tool-choice\n",
    "    - --tool-call-parser\n",
    "    - \"granite\"\n",
    "    - --chat-template\n",
    "    - \"/app/data/template/tool_chat_template_granite.jinja\"\n",
    "```"
   ]
  },
  {
   "cell_type": "markdown",
   "id": "e5d8866d",
   "metadata": {},
   "source": [
    "### 1. Agentic AI Overview \n",
    "\n",
    "An Agent is an autonomous system that leverages Large Language Models (LLMs) to perform tasks by understanding, reasoning, planning, and executing actions with minimal human intervention. AI agents are designed to break down complex problems into manageable steps, utilizing tools, accessing memory, and adapting their behavior based on the provided context.\n",
    "\n",
    "At its core, an agent is structured to:\n",
    "\n",
    "* Receive a Task: The agent takes input from the user, such as a question or command.\n",
    "* Plan a Solution: The agent decomposes the problem, chooses appropriate tools, and reasons through possible solutions.\n",
    "* Execute the Plan: It performs actions, such as retrieving information, using tools, or generating responses based on the devised plan.\n",
    "* Deliver Results: Finally, it presents the solution or output in a structured, actionable format.\n",
    "\n",
    "![LLM Tools](../../content/modules/ROOT/assets/images/04/04-02-react-diagram.png)"
   ]
  },
  {
   "cell_type": "markdown",
   "id": "c7c92f42",
   "metadata": {},
   "source": [
    "### 2. Agentic AI Framework Used - Phidata\n",
    "\n",
    "**Phidata** is a lightweight Python framework for building, deploying, and managing data workflows and cloud infrastructure. It simplifies data pipelines and cloud deployments with a declarative, code-first approach, enabling seamless integration with popular tools and providers. Phidata’s modular design supports dynamic workflows and real-time processing, making it ideal for modern data engineering."
   ]
  },
  {
   "cell_type": "markdown",
   "id": "0022f3fb-ee50-40f2-b276-b8194668e49e",
   "metadata": {},
   "source": [
    "### 3. Setup and Import Libraries\n",
    "\n",
    "To get started, you'll need to install and import a few Python libraries. Run the following command to install them:"
   ]
  },
  {
   "cell_type": "code",
   "execution_count": 1,
   "id": "a16ed2e6",
   "metadata": {
    "tags": []
   },
   "outputs": [
    {
     "name": "stdout",
     "output_type": "stream",
     "text": [
      "\n",
      "\u001b[1m[\u001b[0m\u001b[34;49mnotice\u001b[0m\u001b[1;39;49m]\u001b[0m\u001b[39;49m A new release of pip is available: \u001b[0m\u001b[31;49m23.2.1\u001b[0m\u001b[39;49m -> \u001b[0m\u001b[32;49m25.0\u001b[0m\n",
      "\u001b[1m[\u001b[0m\u001b[34;49mnotice\u001b[0m\u001b[1;39;49m]\u001b[0m\u001b[39;49m To update, run: \u001b[0m\u001b[32;49mpip install --upgrade pip\u001b[0m\n",
      "\n",
      "\u001b[1m[\u001b[0m\u001b[34;49mnotice\u001b[0m\u001b[1;39;49m]\u001b[0m\u001b[39;49m A new release of pip is available: \u001b[0m\u001b[31;49m23.2.1\u001b[0m\u001b[39;49m -> \u001b[0m\u001b[32;49m25.0\u001b[0m\n",
      "\u001b[1m[\u001b[0m\u001b[34;49mnotice\u001b[0m\u001b[1;39;49m]\u001b[0m\u001b[39;49m To update, run: \u001b[0m\u001b[32;49mpip install --upgrade pip\u001b[0m\n"
     ]
    }
   ],
   "source": [
    "!pip install -q duckduckgo_search==7.1.0 yfinance\n",
    "!pip install -qU phidata openai"
   ]
  },
  {
   "cell_type": "code",
   "execution_count": 2,
   "id": "60bb3f0f-40b5-49a6-b493-5e361db0113e",
   "metadata": {
    "tags": []
   },
   "outputs": [],
   "source": [
    "# Imports\n",
    "import os\n",
    "import json\n",
    "import getpass\n",
    "\n",
    "from phi.agent import Agent\n",
    "from phi.model.openai import OpenAIChat\n",
    "from phi.tools.yfinance import YFinanceTools\n",
    "from phi.tools.duckduckgo import DuckDuckGo\n",
    "\n",
    "from typing_extensions import TypedDict\n",
    "from typing import Annotated\n"
   ]
  },
  {
   "cell_type": "markdown",
   "id": "484b7c62-ea7d-4fd3-adcf-847beee5c0fb",
   "metadata": {},
   "source": [
    "### 4. Model Configuration\n",
    "\n",
    "We will start by creating an llm instance, defined by the location where the LLM API can be queried and some parameters that will be applied to the model.\n"
   ]
  },
  {
   "cell_type": "markdown",
   "id": "d94bf848-656e-49ee-bc1e-7c4d2474678d",
   "metadata": {},
   "source": [
    "#### 4.1 Define the Inference Model Server specifics"
   ]
  },
  {
   "cell_type": "code",
   "execution_count": 3,
   "id": "7b908fd0-01dd-4ad2-b745-b3a4c56a7a7e",
   "metadata": {
    "tags": []
   },
   "outputs": [],
   "source": [
    "INFERENCE_SERVER_URL = os.getenv('API_URL_GRANITE')\n",
    "MODEL_NAME = \"granite-3-8b-instruct\"\n",
    "API_KEY= os.getenv('API_KEY_GRANITE')"
   ]
  },
  {
   "cell_type": "markdown",
   "id": "472b2f3f-ac23-4531-984b-6e8357233992",
   "metadata": {},
   "source": [
    "#### 4.2 Create the LLM instance"
   ]
  },
  {
   "cell_type": "code",
   "execution_count": 4,
   "id": "d9d529ce-2a40-4b72-88ac-6c6907a44339",
   "metadata": {},
   "outputs": [],
   "source": [
    "model = OpenAIChat(\n",
    "    id=MODEL_NAME,\n",
    "    base_url=f\"{INFERENCE_SERVER_URL}/v1\",\n",
    "    api_key=API_KEY\n",
    ")"
   ]
  },
  {
   "cell_type": "markdown",
   "id": "70132439-184c-46bc-b3aa-098bd5310c1e",
   "metadata": {
    "tags": []
   },
   "source": [
    "### 5. Define tools"
   ]
  },
  {
   "cell_type": "markdown",
   "id": "6ffca944-5ef0-430a-9abf-6fe93007e091",
   "metadata": {},
   "source": [
    "First, we will configure the tool by initializing the YFinance functionality. This tool will serve as the primary resource for retrieving up-to-date financial data, such as stock prices, analyst recommendations, company details, and news.\n",
    "\n",
    "Additionally, for scenarios where the agent needs to process complex or real-time financial data beyond basic queries, YFinance provides specialized methods to retrieve and analyze relevant information effectively. By using this tool, we can empower the agent to provide precise and actionable insights directly from the financial markets.\n",
    "\n",
    "Here's how to configure the YFinance tool:"
   ]
  },
  {
   "cell_type": "code",
   "execution_count": 5,
   "id": "066af5c7-ce8d-4998-a74a-9b72c0783f05",
   "metadata": {},
   "outputs": [],
   "source": [
    "yfinance = YFinanceTools(stock_price=True, \n",
    "                         analyst_recommendations=True,\n",
    "                         company_info=True,\n",
    "                         company_news=True)"
   ]
  },
  {
   "cell_type": "markdown",
   "id": "ed15de2a-df4c-43b0-99ee-f69fdf23c012",
   "metadata": {},
   "source": [
    "On the other hand we will use as well DuckDuckGo tool to provide to our model searching capabilities:"
   ]
  },
  {
   "cell_type": "code",
   "execution_count": 6,
   "id": "e4334498-7f4a-48fa-a732-fb4e6fe76fa1",
   "metadata": {},
   "outputs": [],
   "source": [
    "duckduckgo = DuckDuckGo()"
   ]
  },
  {
   "cell_type": "markdown",
   "id": "3aade00a-01cc-43e5-97ae-968f74761d90",
   "metadata": {},
   "source": [
    "### 6. Creating a Phidata Agent\n",
    "\n",
    "In this section, we will build a Phidata agent that autonomously reasons through tasks and selects the appropriate tools to solve problems. The agent will follow a structured process to deliver actionable results."
   ]
  },
  {
   "cell_type": "code",
   "execution_count": 7,
   "id": "01baa2b8-529d-455d-ad39-ef4a96dbaf97",
   "metadata": {
    "tags": []
   },
   "outputs": [],
   "source": [
    "agent = Agent(\n",
    "    model=model,\n",
    "    tools=[yfinance],\n",
    "    show_tool_calls=True,\n",
    "    markdown=False,\n",
    "    debug_mode=False,\n",
    ")"
   ]
  },
  {
   "cell_type": "markdown",
   "id": "ac35d2e8-22cb-4081-a727-6622f3d87d68",
   "metadata": {},
   "source": [
    "#### 6.1 Query the agent with tools included\n",
    "\n",
    "Here, we query our Phidata agent to retrieve the current stock prices for JP Morgan (JPM) and Tesla (TSLA). To accomplish this, we’ve equipped the agent with the YFinance Tool, enabling it to access real-time financial data.\n",
    "\n",
    "Let’s see the agent in action!"
   ]
  },
  {
   "cell_type": "code",
   "execution_count": 8,
   "id": "eca6de18-d1cf-4be5-86f3-a28092cf179e",
   "metadata": {},
   "outputs": [
    {
     "data": {
      "text/html": [
       "<pre style=\"white-space:pre;overflow-x:auto;line-height:normal;font-family:Menlo,'DejaVu Sans Mono',consolas,'Courier New',monospace\"><span style=\"color: #008000; text-decoration-color: #008000\">▰▰▰▰▱▱▱</span> Thinking...\n",
       "<span style=\"color: #008080; text-decoration-color: #008080\">┏━ Message ━━━━━━━━━━━━━━━━━━━━━━━━━━━━━━━━━━━━━━━━━━━━━━━━━━━━━━━━━━━━━━━━━━━━━━━━━━━━━━━━━━━━━━━━━━━━━━━━━━━━━━━┓</span>\n",
       "<span style=\"color: #008080; text-decoration-color: #008080\">┃</span>                                                                                                                 <span style=\"color: #008080; text-decoration-color: #008080\">┃</span>\n",
       "<span style=\"color: #008080; text-decoration-color: #008080\">┃</span> <span style=\"color: #008000; text-decoration-color: #008000\">What is the stock price of JPM and TSLA</span>                                                                         <span style=\"color: #008080; text-decoration-color: #008080\">┃</span>\n",
       "<span style=\"color: #008080; text-decoration-color: #008080\">┃</span>                                                                                                                 <span style=\"color: #008080; text-decoration-color: #008080\">┃</span>\n",
       "<span style=\"color: #008080; text-decoration-color: #008080\">┗━━━━━━━━━━━━━━━━━━━━━━━━━━━━━━━━━━━━━━━━━━━━━━━━━━━━━━━━━━━━━━━━━━━━━━━━━━━━━━━━━━━━━━━━━━━━━━━━━━━━━━━━━━━━━━━━━┛</span>\n",
       "<span style=\"color: #000080; text-decoration-color: #000080\">┏━ Response (4.4s) ━━━━━━━━━━━━━━━━━━━━━━━━━━━━━━━━━━━━━━━━━━━━━━━━━━━━━━━━━━━━━━━━━━━━━━━━━━━━━━━━━━━━━━━━━━━━━━━┓</span>\n",
       "<span style=\"color: #000080; text-decoration-color: #000080\">┃</span>                                                                                                                 <span style=\"color: #000080; text-decoration-color: #000080\">┃</span>\n",
       "<span style=\"color: #000080; text-decoration-color: #000080\">┃</span> &lt;tool_call&gt;                                                                                                     <span style=\"color: #000080; text-decoration-color: #000080\">┃</span>\n",
       "<span style=\"color: #000080; text-decoration-color: #000080\">┃</span> Running:                                                                                                        <span style=\"color: #000080; text-decoration-color: #000080\">┃</span>\n",
       "<span style=\"color: #000080; text-decoration-color: #000080\">┃</span>  - get_current_stock_price(symbol=JPM)                                                                          <span style=\"color: #000080; text-decoration-color: #000080\">┃</span>\n",
       "<span style=\"color: #000080; text-decoration-color: #000080\">┃</span>  - get_current_stock_price(symbol=TSLA)                                                                         <span style=\"color: #000080; text-decoration-color: #000080\">┃</span>\n",
       "<span style=\"color: #000080; text-decoration-color: #000080\">┃</span>                                                                                                                 <span style=\"color: #000080; text-decoration-color: #000080\">┃</span>\n",
       "<span style=\"color: #000080; text-decoration-color: #000080\">┃</span> The current stock price of JPM is $269.35 and the current stock price of TSLA is $389.62.                       <span style=\"color: #000080; text-decoration-color: #000080\">┃</span>\n",
       "<span style=\"color: #000080; text-decoration-color: #000080\">┃</span>                                                                                                                 <span style=\"color: #000080; text-decoration-color: #000080\">┃</span>\n",
       "<span style=\"color: #000080; text-decoration-color: #000080\">┗━━━━━━━━━━━━━━━━━━━━━━━━━━━━━━━━━━━━━━━━━━━━━━━━━━━━━━━━━━━━━━━━━━━━━━━━━━━━━━━━━━━━━━━━━━━━━━━━━━━━━━━━━━━━━━━━━┛</span>\n",
       "</pre>\n"
      ],
      "text/plain": [
       "\u001b[32m▰▰▰▰▱▱▱\u001b[0m Thinking...\n",
       "\u001b[36m┏━\u001b[0m\u001b[36m Message \u001b[0m\u001b[36m━━━━━━━━━━━━━━━━━━━━━━━━━━━━━━━━━━━━━━━━━━━━━━━━━━━━━━━━━━━━━━━━━━━━━━━━━━━━━━━━━━━━━━━━━━━━━━━━━━━━━━\u001b[0m\u001b[36m━┓\u001b[0m\n",
       "\u001b[36m┃\u001b[0m                                                                                                                 \u001b[36m┃\u001b[0m\n",
       "\u001b[36m┃\u001b[0m \u001b[32mWhat is the stock price of JPM and TSLA\u001b[0m                                                                         \u001b[36m┃\u001b[0m\n",
       "\u001b[36m┃\u001b[0m                                                                                                                 \u001b[36m┃\u001b[0m\n",
       "\u001b[36m┗━━━━━━━━━━━━━━━━━━━━━━━━━━━━━━━━━━━━━━━━━━━━━━━━━━━━━━━━━━━━━━━━━━━━━━━━━━━━━━━━━━━━━━━━━━━━━━━━━━━━━━━━━━━━━━━━━┛\u001b[0m\n",
       "\u001b[34m┏━\u001b[0m\u001b[34m Response (4.4s) \u001b[0m\u001b[34m━━━━━━━━━━━━━━━━━━━━━━━━━━━━━━━━━━━━━━━━━━━━━━━━━━━━━━━━━━━━━━━━━━━━━━━━━━━━━━━━━━━━━━━━━━━━━━\u001b[0m\u001b[34m━┓\u001b[0m\n",
       "\u001b[34m┃\u001b[0m                                                                                                                 \u001b[34m┃\u001b[0m\n",
       "\u001b[34m┃\u001b[0m <tool_call>                                                                                                     \u001b[34m┃\u001b[0m\n",
       "\u001b[34m┃\u001b[0m Running:                                                                                                        \u001b[34m┃\u001b[0m\n",
       "\u001b[34m┃\u001b[0m  - get_current_stock_price(symbol=JPM)                                                                          \u001b[34m┃\u001b[0m\n",
       "\u001b[34m┃\u001b[0m  - get_current_stock_price(symbol=TSLA)                                                                         \u001b[34m┃\u001b[0m\n",
       "\u001b[34m┃\u001b[0m                                                                                                                 \u001b[34m┃\u001b[0m\n",
       "\u001b[34m┃\u001b[0m The current stock price of JPM is $269.35 and the current stock price of TSLA is $389.62.                       \u001b[34m┃\u001b[0m\n",
       "\u001b[34m┃\u001b[0m                                                                                                                 \u001b[34m┃\u001b[0m\n",
       "\u001b[34m┗━━━━━━━━━━━━━━━━━━━━━━━━━━━━━━━━━━━━━━━━━━━━━━━━━━━━━━━━━━━━━━━━━━━━━━━━━━━━━━━━━━━━━━━━━━━━━━━━━━━━━━━━━━━━━━━━━┛\u001b[0m\n"
      ]
     },
     "metadata": {},
     "output_type": "display_data"
    },
    {
     "data": {
      "text/html": [
       "<pre style=\"white-space:pre;overflow-x:auto;line-height:normal;font-family:Menlo,'DejaVu Sans Mono',consolas,'Courier New',monospace\"></pre>\n"
      ],
      "text/plain": []
     },
     "metadata": {},
     "output_type": "display_data"
    }
   ],
   "source": [
    "agent.print_response(\"What is the stock price of JPM and TSLA\", stream=True)"
   ]
  },
  {
   "cell_type": "markdown",
   "id": "d671f503-8f6e-4d2b-8cfb-5669a8c9ae38",
   "metadata": {},
   "source": [
    "#### 6.2 Summarization of Analyst Recommendations\n",
    "\n",
    "Next, we want to retrieve and summarize analyst recommendations for IBM. The agent will process the data and provide a concise summary, streaming the response in real-time for better interactivity."
   ]
  },
  {
   "cell_type": "code",
   "execution_count": 9,
   "id": "e5c1c699-2a56-4f10-8578-a4a494e2899f",
   "metadata": {},
   "outputs": [
    {
     "data": {
      "text/html": [
       "<pre style=\"white-space:pre;overflow-x:auto;line-height:normal;font-family:Menlo,'DejaVu Sans Mono',consolas,'Courier New',monospace\"><span style=\"color: #008000; text-decoration-color: #008000\">▰▰▰▰▰▱▱</span> Thinking...\n",
       "<span style=\"color: #008080; text-decoration-color: #008080\">┏━ Message ━━━━━━━━━━━━━━━━━━━━━━━━━━━━━━━━━━━━━━━━━━━━━━━━━━━━━━━━━━━━━━━━━━━━━━━━━━━━━━━━━━━━━━━━━━━━━━━━━━━━━━━┓</span>\n",
       "<span style=\"color: #008080; text-decoration-color: #008080\">┃</span>                                                                                                                 <span style=\"color: #008080; text-decoration-color: #008080\">┃</span>\n",
       "<span style=\"color: #008080; text-decoration-color: #008080\">┃</span> <span style=\"color: #008000; text-decoration-color: #008000\">Summarize analyst recommendations for IBM</span>                                                                       <span style=\"color: #008080; text-decoration-color: #008080\">┃</span>\n",
       "<span style=\"color: #008080; text-decoration-color: #008080\">┃</span>                                                                                                                 <span style=\"color: #008080; text-decoration-color: #008080\">┃</span>\n",
       "<span style=\"color: #008080; text-decoration-color: #008080\">┗━━━━━━━━━━━━━━━━━━━━━━━━━━━━━━━━━━━━━━━━━━━━━━━━━━━━━━━━━━━━━━━━━━━━━━━━━━━━━━━━━━━━━━━━━━━━━━━━━━━━━━━━━━━━━━━━━┛</span>\n",
       "<span style=\"color: #000080; text-decoration-color: #000080\">┏━ Response (12.3s) ━━━━━━━━━━━━━━━━━━━━━━━━━━━━━━━━━━━━━━━━━━━━━━━━━━━━━━━━━━━━━━━━━━━━━━━━━━━━━━━━━━━━━━━━━━━━━━┓</span>\n",
       "<span style=\"color: #000080; text-decoration-color: #000080\">┃</span>                                                                                                                 <span style=\"color: #000080; text-decoration-color: #000080\">┃</span>\n",
       "<span style=\"color: #000080; text-decoration-color: #000080\">┃</span> &lt;tool_call&gt;                                                                                                     <span style=\"color: #000080; text-decoration-color: #000080\">┃</span>\n",
       "<span style=\"color: #000080; text-decoration-color: #000080\">┃</span> Running:                                                                                                        <span style=\"color: #000080; text-decoration-color: #000080\">┃</span>\n",
       "<span style=\"color: #000080; text-decoration-color: #000080\">┃</span>  - get_analyst_recommendations(symbol=IBM)                                                                      <span style=\"color: #000080; text-decoration-color: #000080\">┃</span>\n",
       "<span style=\"color: #000080; text-decoration-color: #000080\">┃</span>                                                                                                                 <span style=\"color: #000080; text-decoration-color: #000080\">┃</span>\n",
       "<span style=\"color: #000080; text-decoration-color: #000080\">┃</span> Here are the recent analyst recommendations for IBM:                                                            <span style=\"color: #000080; text-decoration-color: #000080\">┃</span>\n",
       "<span style=\"color: #000080; text-decoration-color: #000080\">┃</span>                                                                                                                 <span style=\"color: #000080; text-decoration-color: #000080\">┃</span>\n",
       "<span style=\"color: #000080; text-decoration-color: #000080\">┃</span> - For the last 0 months, out of 15 analysts, 2 recommend a strong buy, 5 recommend a buy, 8 suggest holding, 3  <span style=\"color: #000080; text-decoration-color: #000080\">┃</span>\n",
       "<span style=\"color: #000080; text-decoration-color: #000080\">┃</span> recommend selling, and 1 advises selling with conviction.                                                       <span style=\"color: #000080; text-decoration-color: #000080\">┃</span>\n",
       "<span style=\"color: #000080; text-decoration-color: #000080\">┃</span> - For the last -1 month, out of 15 analysts, 2 recommend a strong buy, 5 recommend a buy, 8 suggest holding, 3  <span style=\"color: #000080; text-decoration-color: #000080\">┃</span>\n",
       "<span style=\"color: #000080; text-decoration-color: #000080\">┃</span> recommend selling, and 1 advises selling with conviction.                                                       <span style=\"color: #000080; text-decoration-color: #000080\">┃</span>\n",
       "<span style=\"color: #000080; text-decoration-color: #000080\">┃</span> - For the last -2 months, out of 15 analysts, 2 recommend a strong buy, 5 recommend a buy, 9 suggest holding, 3 <span style=\"color: #000080; text-decoration-color: #000080\">┃</span>\n",
       "<span style=\"color: #000080; text-decoration-color: #000080\">┃</span> recommend selling, and 1 advises selling with conviction.                                                       <span style=\"color: #000080; text-decoration-color: #000080\">┃</span>\n",
       "<span style=\"color: #000080; text-decoration-color: #000080\">┃</span> - For the last -3 months, out of 15 analysts, 2 recommend a strong buy, 5 recommend a buy, 9 suggest holding, 3 <span style=\"color: #000080; text-decoration-color: #000080\">┃</span>\n",
       "<span style=\"color: #000080; text-decoration-color: #000080\">┃</span> recommend selling, and 1 advises selling with conviction.                                                       <span style=\"color: #000080; text-decoration-color: #000080\">┃</span>\n",
       "<span style=\"color: #000080; text-decoration-color: #000080\">┃</span>                                                                                                                 <span style=\"color: #000080; text-decoration-color: #000080\">┃</span>\n",
       "<span style=\"color: #000080; text-decoration-color: #000080\">┃</span> The overall sentiment among the analysts remains positive, with slightly more recommending a buy or hold. There <span style=\"color: #000080; text-decoration-color: #000080\">┃</span>\n",
       "<span style=\"color: #000080; text-decoration-color: #000080\">┃</span> hasn't been a significant change in the recommendations over the past three months.                             <span style=\"color: #000080; text-decoration-color: #000080\">┃</span>\n",
       "<span style=\"color: #000080; text-decoration-color: #000080\">┃</span>                                                                                                                 <span style=\"color: #000080; text-decoration-color: #000080\">┃</span>\n",
       "<span style=\"color: #000080; text-decoration-color: #000080\">┗━━━━━━━━━━━━━━━━━━━━━━━━━━━━━━━━━━━━━━━━━━━━━━━━━━━━━━━━━━━━━━━━━━━━━━━━━━━━━━━━━━━━━━━━━━━━━━━━━━━━━━━━━━━━━━━━━┛</span>\n",
       "</pre>\n"
      ],
      "text/plain": [
       "\u001b[32m▰▰▰▰▰▱▱\u001b[0m Thinking...\n",
       "\u001b[36m┏━\u001b[0m\u001b[36m Message \u001b[0m\u001b[36m━━━━━━━━━━━━━━━━━━━━━━━━━━━━━━━━━━━━━━━━━━━━━━━━━━━━━━━━━━━━━━━━━━━━━━━━━━━━━━━━━━━━━━━━━━━━━━━━━━━━━━\u001b[0m\u001b[36m━┓\u001b[0m\n",
       "\u001b[36m┃\u001b[0m                                                                                                                 \u001b[36m┃\u001b[0m\n",
       "\u001b[36m┃\u001b[0m \u001b[32mSummarize analyst recommendations for IBM\u001b[0m                                                                       \u001b[36m┃\u001b[0m\n",
       "\u001b[36m┃\u001b[0m                                                                                                                 \u001b[36m┃\u001b[0m\n",
       "\u001b[36m┗━━━━━━━━━━━━━━━━━━━━━━━━━━━━━━━━━━━━━━━━━━━━━━━━━━━━━━━━━━━━━━━━━━━━━━━━━━━━━━━━━━━━━━━━━━━━━━━━━━━━━━━━━━━━━━━━━┛\u001b[0m\n",
       "\u001b[34m┏━\u001b[0m\u001b[34m Response (12.3s) \u001b[0m\u001b[34m━━━━━━━━━━━━━━━━━━━━━━━━━━━━━━━━━━━━━━━━━━━━━━━━━━━━━━━━━━━━━━━━━━━━━━━━━━━━━━━━━━━━━━━━━━━━━\u001b[0m\u001b[34m━┓\u001b[0m\n",
       "\u001b[34m┃\u001b[0m                                                                                                                 \u001b[34m┃\u001b[0m\n",
       "\u001b[34m┃\u001b[0m <tool_call>                                                                                                     \u001b[34m┃\u001b[0m\n",
       "\u001b[34m┃\u001b[0m Running:                                                                                                        \u001b[34m┃\u001b[0m\n",
       "\u001b[34m┃\u001b[0m  - get_analyst_recommendations(symbol=IBM)                                                                      \u001b[34m┃\u001b[0m\n",
       "\u001b[34m┃\u001b[0m                                                                                                                 \u001b[34m┃\u001b[0m\n",
       "\u001b[34m┃\u001b[0m Here are the recent analyst recommendations for IBM:                                                            \u001b[34m┃\u001b[0m\n",
       "\u001b[34m┃\u001b[0m                                                                                                                 \u001b[34m┃\u001b[0m\n",
       "\u001b[34m┃\u001b[0m - For the last 0 months, out of 15 analysts, 2 recommend a strong buy, 5 recommend a buy, 8 suggest holding, 3  \u001b[34m┃\u001b[0m\n",
       "\u001b[34m┃\u001b[0m recommend selling, and 1 advises selling with conviction.                                                       \u001b[34m┃\u001b[0m\n",
       "\u001b[34m┃\u001b[0m - For the last -1 month, out of 15 analysts, 2 recommend a strong buy, 5 recommend a buy, 8 suggest holding, 3  \u001b[34m┃\u001b[0m\n",
       "\u001b[34m┃\u001b[0m recommend selling, and 1 advises selling with conviction.                                                       \u001b[34m┃\u001b[0m\n",
       "\u001b[34m┃\u001b[0m - For the last -2 months, out of 15 analysts, 2 recommend a strong buy, 5 recommend a buy, 9 suggest holding, 3 \u001b[34m┃\u001b[0m\n",
       "\u001b[34m┃\u001b[0m recommend selling, and 1 advises selling with conviction.                                                       \u001b[34m┃\u001b[0m\n",
       "\u001b[34m┃\u001b[0m - For the last -3 months, out of 15 analysts, 2 recommend a strong buy, 5 recommend a buy, 9 suggest holding, 3 \u001b[34m┃\u001b[0m\n",
       "\u001b[34m┃\u001b[0m recommend selling, and 1 advises selling with conviction.                                                       \u001b[34m┃\u001b[0m\n",
       "\u001b[34m┃\u001b[0m                                                                                                                 \u001b[34m┃\u001b[0m\n",
       "\u001b[34m┃\u001b[0m The overall sentiment among the analysts remains positive, with slightly more recommending a buy or hold. There \u001b[34m┃\u001b[0m\n",
       "\u001b[34m┃\u001b[0m hasn't been a significant change in the recommendations over the past three months.                             \u001b[34m┃\u001b[0m\n",
       "\u001b[34m┃\u001b[0m                                                                                                                 \u001b[34m┃\u001b[0m\n",
       "\u001b[34m┗━━━━━━━━━━━━━━━━━━━━━━━━━━━━━━━━━━━━━━━━━━━━━━━━━━━━━━━━━━━━━━━━━━━━━━━━━━━━━━━━━━━━━━━━━━━━━━━━━━━━━━━━━━━━━━━━━┛\u001b[0m\n"
      ]
     },
     "metadata": {},
     "output_type": "display_data"
    },
    {
     "data": {
      "text/html": [
       "<pre style=\"white-space:pre;overflow-x:auto;line-height:normal;font-family:Menlo,'DejaVu Sans Mono',consolas,'Courier New',monospace\"></pre>\n"
      ],
      "text/plain": []
     },
     "metadata": {},
     "output_type": "display_data"
    }
   ],
   "source": [
    "agent.print_response(\"Summarize analyst recommendations for IBM\", stream=True)"
   ]
  },
  {
   "cell_type": "markdown",
   "id": "ff178e6a-7d89-4e0c-9c53-412464edfde8",
   "metadata": {},
   "source": [
    "### 7. Building our own Finance Report Agent\n",
    "\n",
    "Here, we configure a finance report agent to compare JP Morgan (JPM) and Tesla (TSLA) using the YFinance tool for real-time financial data. The agent is set to use tables for clarity and provides a detailed reasoning process to explain its analysis. With streaming enabled, we’ll generate a real-time, structured comparative report. Let’s see the output!"
   ]
  },
  {
   "cell_type": "code",
   "execution_count": 10,
   "id": "b44b41bd-528f-45a6-aa16-2b1802bad0af",
   "metadata": {},
   "outputs": [
    {
     "data": {
      "text/html": [
       "<pre style=\"white-space:pre;overflow-x:auto;line-height:normal;font-family:Menlo,'DejaVu Sans Mono',consolas,'Courier New',monospace\"><span style=\"color: #008000; text-decoration-color: #008000\">▰▰▱▱▱▱▱</span> Thinking...\n",
       "<span style=\"color: #008080; text-decoration-color: #008080\">┏━ Message ━━━━━━━━━━━━━━━━━━━━━━━━━━━━━━━━━━━━━━━━━━━━━━━━━━━━━━━━━━━━━━━━━━━━━━━━━━━━━━━━━━━━━━━━━━━━━━━━━━━━━━━┓</span>\n",
       "<span style=\"color: #008080; text-decoration-color: #008080\">┃</span>                                                                                                                 <span style=\"color: #008080; text-decoration-color: #008080\">┃</span>\n",
       "<span style=\"color: #008080; text-decoration-color: #008080\">┃</span> <span style=\"color: #008000; text-decoration-color: #008000\">Write a report comparing JPM to TSLA</span>                                                                            <span style=\"color: #008080; text-decoration-color: #008080\">┃</span>\n",
       "<span style=\"color: #008080; text-decoration-color: #008080\">┃</span>                                                                                                                 <span style=\"color: #008080; text-decoration-color: #008080\">┃</span>\n",
       "<span style=\"color: #008080; text-decoration-color: #008080\">┗━━━━━━━━━━━━━━━━━━━━━━━━━━━━━━━━━━━━━━━━━━━━━━━━━━━━━━━━━━━━━━━━━━━━━━━━━━━━━━━━━━━━━━━━━━━━━━━━━━━━━━━━━━━━━━━━━┛</span>\n",
       "<span style=\"color: #000080; text-decoration-color: #000080\">┏━ Response (19.6s) ━━━━━━━━━━━━━━━━━━━━━━━━━━━━━━━━━━━━━━━━━━━━━━━━━━━━━━━━━━━━━━━━━━━━━━━━━━━━━━━━━━━━━━━━━━━━━━┓</span>\n",
       "<span style=\"color: #000080; text-decoration-color: #000080\">┃</span>                                                                                                                 <span style=\"color: #000080; text-decoration-color: #000080\">┃</span>\n",
       "<span style=\"color: #000080; text-decoration-color: #000080\">┃</span>                                                                                                                 <span style=\"color: #000080; text-decoration-color: #000080\">┃</span>\n",
       "<span style=\"color: #000080; text-decoration-color: #000080\">┃</span>                                                                                                                 <span style=\"color: #000080; text-decoration-color: #000080\">┃</span>\n",
       "<span style=\"color: #000080; text-decoration-color: #000080\">┃</span>  <span style=\"font-weight: bold\"> Metric                  </span> <span style=\"font-weight: bold\"> JPM (JPMorgan Chase)                    </span> <span style=\"font-weight: bold\"> TSLA (Tesla)                            </span>  <span style=\"color: #000080; text-decoration-color: #000080\">┃</span>\n",
       "<span style=\"color: #000080; text-decoration-color: #000080\">┃</span>  ━━━━━━━━━━━━━━━━━━━━━━━━━━━━━━━━━━━━━━━━━━━━━━━━━━━━━━━━━━━━━━━━━━━━━━━━━━━━━━━━━━━━━━━━━━━━━━━━━━━━━━━━━━━━━  <span style=\"color: #000080; text-decoration-color: #000080\">┃</span>\n",
       "<span style=\"color: #000080; text-decoration-color: #000080\">┃</span>   Current Stock Price       (Call the function                        (Call the function                        <span style=\"color: #000080; text-decoration-color: #000080\">┃</span>\n",
       "<span style=\"color: #000080; text-decoration-color: #000080\">┃</span>                             get_current_stock_price with the symbol   get_current_stock_price with the symbol   <span style=\"color: #000080; text-decoration-color: #000080\">┃</span>\n",
       "<span style=\"color: #000080; text-decoration-color: #000080\">┃</span>                             \"JPM\")                                    \"TSLA\")                                   <span style=\"color: #000080; text-decoration-color: #000080\">┃</span>\n",
       "<span style=\"color: #000080; text-decoration-color: #000080\">┃</span>   Company Info              (Call the function get_company_info       (Call the function get_company_info       <span style=\"color: #000080; text-decoration-color: #000080\">┃</span>\n",
       "<span style=\"color: #000080; text-decoration-color: #000080\">┃</span>                             with the symbol \"JPM\")                    with the symbol \"TSLA\")                   <span style=\"color: #000080; text-decoration-color: #000080\">┃</span>\n",
       "<span style=\"color: #000080; text-decoration-color: #000080\">┃</span>   Analyst Recommendations   (Call the function                        (Call the function                        <span style=\"color: #000080; text-decoration-color: #000080\">┃</span>\n",
       "<span style=\"color: #000080; text-decoration-color: #000080\">┃</span>                             get_analyst_recommendations with the      get_analyst_recommendations with the      <span style=\"color: #000080; text-decoration-color: #000080\">┃</span>\n",
       "<span style=\"color: #000080; text-decoration-color: #000080\">┃</span>                             symbol \"JPM\")                             symbol \"TSLA\")                            <span style=\"color: #000080; text-decoration-color: #000080\">┃</span>\n",
       "<span style=\"color: #000080; text-decoration-color: #000080\">┃</span>   Recent News               (Call the function get_company_news       (Call the function get_company_news       <span style=\"color: #000080; text-decoration-color: #000080\">┃</span>\n",
       "<span style=\"color: #000080; text-decoration-color: #000080\">┃</span>                             with the symbol \"JPM\" and                 with the symbol \"TSLA\" and                <span style=\"color: #000080; text-decoration-color: #000080\">┃</span>\n",
       "<span style=\"color: #000080; text-decoration-color: #000080\">┃</span>                             num_stories=3)                            num_stories=3)                            <span style=\"color: #000080; text-decoration-color: #000080\">┃</span>\n",
       "<span style=\"color: #000080; text-decoration-color: #000080\">┃</span>                                                                                                                 <span style=\"color: #000080; text-decoration-color: #000080\">┃</span>\n",
       "<span style=\"color: #000080; text-decoration-color: #000080\">┃</span>                                                                                                                 <span style=\"color: #000080; text-decoration-color: #000080\">┃</span>\n",
       "<span style=\"color: #000080; text-decoration-color: #000080\">┃</span> In the report, you would fill in the values obtained from the APIs. JPM (JPMorgan Chase) and TSLA (Tesla) are   <span style=\"color: #000080; text-decoration-color: #000080\">┃</span>\n",
       "<span style=\"color: #000080; text-decoration-color: #000080\">┃</span> both prominent companies, yet they operate in different sectors - banking and automotive, respectively.         <span style=\"color: #000080; text-decoration-color: #000080\">┃</span>\n",
       "<span style=\"color: #000080; text-decoration-color: #000080\">┃</span>                                                                                                                 <span style=\"color: #000080; text-decoration-color: #000080\">┃</span>\n",
       "<span style=\"color: #000080; text-decoration-color: #000080\">┃</span> JPMorgan Chase, boasting a strong balance sheet and diversified business model, is known for its financial      <span style=\"color: #000080; text-decoration-color: #000080\">┃</span>\n",
       "<span style=\"color: #000080; text-decoration-color: #000080\">┃</span> services and investment banking. Tesla, an industry leader in electric vehicles, has been transforming the      <span style=\"color: #000080; text-decoration-color: #000080\">┃</span>\n",
       "<span style=\"color: #000080; text-decoration-color: #000080\">┃</span> automotive sector with its innovative products and sustainable energy solutions.                                <span style=\"color: #000080; text-decoration-color: #000080\">┃</span>\n",
       "<span style=\"color: #000080; text-decoration-color: #000080\">┃</span>                                                                                                                 <span style=\"color: #000080; text-decoration-color: #000080\">┃</span>\n",
       "<span style=\"color: #000080; text-decoration-color: #000080\">┃</span> Comparing their current stock prices will give us an insight into investor sentiment towards each company's     <span style=\"color: #000080; text-decoration-color: #000080\">┃</span>\n",
       "<span style=\"color: #000080; text-decoration-color: #000080\">┃</span> stock at the time of the report. Analyzing their company information will allow us to understand the core       <span style=\"color: #000080; text-decoration-color: #000080\">┃</span>\n",
       "<span style=\"color: #000080; text-decoration-color: #000080\">┃</span> business operations and market stands of both companies.                                                        <span style=\"color: #000080; text-decoration-color: #000080\">┃</span>\n",
       "<span style=\"color: #000080; text-decoration-color: #000080\">┃</span>                                                                                                                 <span style=\"color: #000080; text-decoration-color: #000080\">┃</span>\n",
       "<span style=\"color: #000080; text-decoration-color: #000080\">┃</span> The analysts' recommendations provide valuable insights into the general outlook of the stock. Favorable        <span style=\"color: #000080; text-decoration-color: #000080\">┃</span>\n",
       "<span style=\"color: #000080; text-decoration-color: #000080\">┃</span> recommendations could signify growth potential, while cautionary ones might suggest potential risks.            <span style=\"color: #000080; text-decoration-color: #000080\">┃</span>\n",
       "<span style=\"color: #000080; text-decoration-color: #000080\">┃</span>                                                                                                                 <span style=\"color: #000080; text-decoration-color: #000080\">┃</span>\n",
       "<span style=\"color: #000080; text-decoration-color: #000080\">┃</span> Lastly, the recent news section captures summarized information on significant news events impacting the        <span style=\"color: #000080; text-decoration-color: #000080\">┃</span>\n",
       "<span style=\"color: #000080; text-decoration-color: #000080\">┃</span> companies. It helps in understanding current challenges, achievements, or future plans of JPMorgan Chase and    <span style=\"color: #000080; text-decoration-color: #000080\">┃</span>\n",
       "<span style=\"color: #000080; text-decoration-color: #000080\">┃</span> Tesla.                                                                                                          <span style=\"color: #000080; text-decoration-color: #000080\">┃</span>\n",
       "<span style=\"color: #000080; text-decoration-color: #000080\">┃</span>                                                                                                                 <span style=\"color: #000080; text-decoration-color: #000080\">┃</span>\n",
       "<span style=\"color: #000080; text-decoration-color: #000080\">┗━━━━━━━━━━━━━━━━━━━━━━━━━━━━━━━━━━━━━━━━━━━━━━━━━━━━━━━━━━━━━━━━━━━━━━━━━━━━━━━━━━━━━━━━━━━━━━━━━━━━━━━━━━━━━━━━━┛</span>\n",
       "</pre>\n"
      ],
      "text/plain": [
       "\u001b[32m▰▰▱▱▱▱▱\u001b[0m Thinking...\n",
       "\u001b[36m┏━\u001b[0m\u001b[36m Message \u001b[0m\u001b[36m━━━━━━━━━━━━━━━━━━━━━━━━━━━━━━━━━━━━━━━━━━━━━━━━━━━━━━━━━━━━━━━━━━━━━━━━━━━━━━━━━━━━━━━━━━━━━━━━━━━━━━\u001b[0m\u001b[36m━┓\u001b[0m\n",
       "\u001b[36m┃\u001b[0m                                                                                                                 \u001b[36m┃\u001b[0m\n",
       "\u001b[36m┃\u001b[0m \u001b[32mWrite a report comparing JPM to TSLA\u001b[0m                                                                            \u001b[36m┃\u001b[0m\n",
       "\u001b[36m┃\u001b[0m                                                                                                                 \u001b[36m┃\u001b[0m\n",
       "\u001b[36m┗━━━━━━━━━━━━━━━━━━━━━━━━━━━━━━━━━━━━━━━━━━━━━━━━━━━━━━━━━━━━━━━━━━━━━━━━━━━━━━━━━━━━━━━━━━━━━━━━━━━━━━━━━━━━━━━━━┛\u001b[0m\n",
       "\u001b[34m┏━\u001b[0m\u001b[34m Response (19.6s) \u001b[0m\u001b[34m━━━━━━━━━━━━━━━━━━━━━━━━━━━━━━━━━━━━━━━━━━━━━━━━━━━━━━━━━━━━━━━━━━━━━━━━━━━━━━━━━━━━━━━━━━━━━\u001b[0m\u001b[34m━┓\u001b[0m\n",
       "\u001b[34m┃\u001b[0m                                                                                                                 \u001b[34m┃\u001b[0m\n",
       "\u001b[34m┃\u001b[0m                                                                                                                 \u001b[34m┃\u001b[0m\n",
       "\u001b[34m┃\u001b[0m                                                                                                                 \u001b[34m┃\u001b[0m\n",
       "\u001b[34m┃\u001b[0m  \u001b[1m \u001b[0m\u001b[1mMetric\u001b[0m\u001b[1m                 \u001b[0m\u001b[1m \u001b[0m \u001b[1m \u001b[0m\u001b[1mJPM (JPMorgan Chase)\u001b[0m\u001b[1m                   \u001b[0m\u001b[1m \u001b[0m \u001b[1m \u001b[0m\u001b[1mTSLA (Tesla)\u001b[0m\u001b[1m                           \u001b[0m\u001b[1m \u001b[0m  \u001b[34m┃\u001b[0m\n",
       "\u001b[34m┃\u001b[0m  ━━━━━━━━━━━━━━━━━━━━━━━━━━━━━━━━━━━━━━━━━━━━━━━━━━━━━━━━━━━━━━━━━━━━━━━━━━━━━━━━━━━━━━━━━━━━━━━━━━━━━━━━━━━━━  \u001b[34m┃\u001b[0m\n",
       "\u001b[34m┃\u001b[0m   Current Stock Price       (Call the function                        (Call the function                        \u001b[34m┃\u001b[0m\n",
       "\u001b[34m┃\u001b[0m                             get_current_stock_price with the symbol   get_current_stock_price with the symbol   \u001b[34m┃\u001b[0m\n",
       "\u001b[34m┃\u001b[0m                             \"JPM\")                                    \"TSLA\")                                   \u001b[34m┃\u001b[0m\n",
       "\u001b[34m┃\u001b[0m   Company Info              (Call the function get_company_info       (Call the function get_company_info       \u001b[34m┃\u001b[0m\n",
       "\u001b[34m┃\u001b[0m                             with the symbol \"JPM\")                    with the symbol \"TSLA\")                   \u001b[34m┃\u001b[0m\n",
       "\u001b[34m┃\u001b[0m   Analyst Recommendations   (Call the function                        (Call the function                        \u001b[34m┃\u001b[0m\n",
       "\u001b[34m┃\u001b[0m                             get_analyst_recommendations with the      get_analyst_recommendations with the      \u001b[34m┃\u001b[0m\n",
       "\u001b[34m┃\u001b[0m                             symbol \"JPM\")                             symbol \"TSLA\")                            \u001b[34m┃\u001b[0m\n",
       "\u001b[34m┃\u001b[0m   Recent News               (Call the function get_company_news       (Call the function get_company_news       \u001b[34m┃\u001b[0m\n",
       "\u001b[34m┃\u001b[0m                             with the symbol \"JPM\" and                 with the symbol \"TSLA\" and                \u001b[34m┃\u001b[0m\n",
       "\u001b[34m┃\u001b[0m                             num_stories=3)                            num_stories=3)                            \u001b[34m┃\u001b[0m\n",
       "\u001b[34m┃\u001b[0m                                                                                                                 \u001b[34m┃\u001b[0m\n",
       "\u001b[34m┃\u001b[0m                                                                                                                 \u001b[34m┃\u001b[0m\n",
       "\u001b[34m┃\u001b[0m In the report, you would fill in the values obtained from the APIs. JPM (JPMorgan Chase) and TSLA (Tesla) are   \u001b[34m┃\u001b[0m\n",
       "\u001b[34m┃\u001b[0m both prominent companies, yet they operate in different sectors - banking and automotive, respectively.         \u001b[34m┃\u001b[0m\n",
       "\u001b[34m┃\u001b[0m                                                                                                                 \u001b[34m┃\u001b[0m\n",
       "\u001b[34m┃\u001b[0m JPMorgan Chase, boasting a strong balance sheet and diversified business model, is known for its financial      \u001b[34m┃\u001b[0m\n",
       "\u001b[34m┃\u001b[0m services and investment banking. Tesla, an industry leader in electric vehicles, has been transforming the      \u001b[34m┃\u001b[0m\n",
       "\u001b[34m┃\u001b[0m automotive sector with its innovative products and sustainable energy solutions.                                \u001b[34m┃\u001b[0m\n",
       "\u001b[34m┃\u001b[0m                                                                                                                 \u001b[34m┃\u001b[0m\n",
       "\u001b[34m┃\u001b[0m Comparing their current stock prices will give us an insight into investor sentiment towards each company's     \u001b[34m┃\u001b[0m\n",
       "\u001b[34m┃\u001b[0m stock at the time of the report. Analyzing their company information will allow us to understand the core       \u001b[34m┃\u001b[0m\n",
       "\u001b[34m┃\u001b[0m business operations and market stands of both companies.                                                        \u001b[34m┃\u001b[0m\n",
       "\u001b[34m┃\u001b[0m                                                                                                                 \u001b[34m┃\u001b[0m\n",
       "\u001b[34m┃\u001b[0m The analysts' recommendations provide valuable insights into the general outlook of the stock. Favorable        \u001b[34m┃\u001b[0m\n",
       "\u001b[34m┃\u001b[0m recommendations could signify growth potential, while cautionary ones might suggest potential risks.            \u001b[34m┃\u001b[0m\n",
       "\u001b[34m┃\u001b[0m                                                                                                                 \u001b[34m┃\u001b[0m\n",
       "\u001b[34m┃\u001b[0m Lastly, the recent news section captures summarized information on significant news events impacting the        \u001b[34m┃\u001b[0m\n",
       "\u001b[34m┃\u001b[0m companies. It helps in understanding current challenges, achievements, or future plans of JPMorgan Chase and    \u001b[34m┃\u001b[0m\n",
       "\u001b[34m┃\u001b[0m Tesla.                                                                                                          \u001b[34m┃\u001b[0m\n",
       "\u001b[34m┃\u001b[0m                                                                                                                 \u001b[34m┃\u001b[0m\n",
       "\u001b[34m┗━━━━━━━━━━━━━━━━━━━━━━━━━━━━━━━━━━━━━━━━━━━━━━━━━━━━━━━━━━━━━━━━━━━━━━━━━━━━━━━━━━━━━━━━━━━━━━━━━━━━━━━━━━━━━━━━━┛\u001b[0m\n"
      ]
     },
     "metadata": {},
     "output_type": "display_data"
    },
    {
     "data": {
      "text/html": [
       "<pre style=\"white-space:pre;overflow-x:auto;line-height:normal;font-family:Menlo,'DejaVu Sans Mono',consolas,'Courier New',monospace\"></pre>\n"
      ],
      "text/plain": []
     },
     "metadata": {},
     "output_type": "display_data"
    }
   ],
   "source": [
    "finance_report_agent = Agent(\n",
    "    model=model,\n",
    "    tools=[yfinance],\n",
    "    instructions=[\"Use tables where possible\"],\n",
    "    show_tool_calls=True,\n",
    "    markdown=True,\n",
    "    debug_mode=False,\n",
    ")\n",
    "\n",
    "finance_report_agent.print_response(\"Write a report comparing JPM to TSLA\", stream=True, show_full_reasoning=True)"
   ]
  },
  {
   "cell_type": "markdown",
   "id": "c2c975f5-642e-43ee-9a79-8b006ba7d20f",
   "metadata": {},
   "source": [
    "### 8. Using Multiple Tools with our Agent\n",
    "\n",
    "In this step, we configure a multi-tool agent that combines the DuckDuckGo tool for web search and the YFinance tool for retrieving financial data. This setup allows the agent to handle both general search queries and financial-specific tasks in a single prompt.\n",
    "\n",
    "The agent is instructed to use tables for presenting data for better clarity. In this example, we’ll ask the agent to fetch the stock price for JP Morgan (JPM) and simultaneously search for current trends related to it.\n",
    "\n",
    "Let’s see how the agent performs with multiple tools working together!"
   ]
  },
  {
   "cell_type": "code",
   "execution_count": 11,
   "id": "e6073e04-8a96-47e2-96d9-4c0bde98a5d5",
   "metadata": {},
   "outputs": [],
   "source": [
    "multi_tool_agent = Agent(\n",
    "    model=model,\n",
    "    tools=[DuckDuckGo(), yfinance],\n",
    "    instructions=[\"Use tables to display data\"],\n",
    "    show_tool_calls=True,\n",
    "    markdown=True,\n",
    ")"
   ]
  },
  {
   "cell_type": "code",
   "execution_count": 12,
   "id": "2c6148fb-e095-43a5-83f3-2a99274246a2",
   "metadata": {},
   "outputs": [
    {
     "data": {
      "text/html": [
       "<pre style=\"white-space:pre;overflow-x:auto;line-height:normal;font-family:Menlo,'DejaVu Sans Mono',consolas,'Courier New',monospace\"><span style=\"color: #008000; text-decoration-color: #008000\">▰▰▰▰▰▰▰</span> Thinking...\n",
       "<span style=\"color: #008080; text-decoration-color: #008080\">┏━ Message ━━━━━━━━━━━━━━━━━━━━━━━━━━━━━━━━━━━━━━━━━━━━━━━━━━━━━━━━━━━━━━━━━━━━━━━━━━━━━━━━━━━━━━━━━━━━━━━━━━━━━━━┓</span>\n",
       "<span style=\"color: #008080; text-decoration-color: #008080\">┃</span>                                                                                                                 <span style=\"color: #008080; text-decoration-color: #008080\">┃</span>\n",
       "<span style=\"color: #008080; text-decoration-color: #008080\">┃</span> <span style=\"color: #008000; text-decoration-color: #008000\">Get the stock price from JPM and search what the trends are</span>                                                     <span style=\"color: #008080; text-decoration-color: #008080\">┃</span>\n",
       "<span style=\"color: #008080; text-decoration-color: #008080\">┃</span>                                                                                                                 <span style=\"color: #008080; text-decoration-color: #008080\">┃</span>\n",
       "<span style=\"color: #008080; text-decoration-color: #008080\">┗━━━━━━━━━━━━━━━━━━━━━━━━━━━━━━━━━━━━━━━━━━━━━━━━━━━━━━━━━━━━━━━━━━━━━━━━━━━━━━━━━━━━━━━━━━━━━━━━━━━━━━━━━━━━━━━━━┛</span>\n",
       "<span style=\"color: #000080; text-decoration-color: #000080\">┏━ Response (13.4s) ━━━━━━━━━━━━━━━━━━━━━━━━━━━━━━━━━━━━━━━━━━━━━━━━━━━━━━━━━━━━━━━━━━━━━━━━━━━━━━━━━━━━━━━━━━━━━━┓</span>\n",
       "<span style=\"color: #000080; text-decoration-color: #000080\">┃</span>                                                                                                                 <span style=\"color: #000080; text-decoration-color: #000080\">┃</span>\n",
       "<span style=\"color: #000080; text-decoration-color: #000080\">┃</span> &lt;tool_call&gt;                                                                                                     <span style=\"color: #000080; text-decoration-color: #000080\">┃</span>\n",
       "<span style=\"color: #000080; text-decoration-color: #000080\">┃</span> Running:                                                                                                        <span style=\"color: #000080; text-decoration-color: #000080\">┃</span>\n",
       "<span style=\"color: #000080; text-decoration-color: #000080\">┃</span>  - get_current_stock_price(symbol=JPM)                                                                          <span style=\"color: #000080; text-decoration-color: #000080\">┃</span>\n",
       "<span style=\"color: #000080; text-decoration-color: #000080\">┃</span>  - get_company_news(symbol=JPM)                                                                                 <span style=\"color: #000080; text-decoration-color: #000080\">┃</span>\n",
       "<span style=\"color: #000080; text-decoration-color: #000080\">┃</span>                                                                                                                 <span style=\"color: #000080; text-decoration-color: #000080\">┃</span>\n",
       "<span style=\"color: #000080; text-decoration-color: #000080\">┃</span> The current stock price for JPM is $269.35. Recent news stories related to JPM include:                         <span style=\"color: #000080; text-decoration-color: #000080\">┃</span>\n",
       "<span style=\"color: #000080; text-decoration-color: #000080\">┃</span>                                                                                                                 <span style=\"color: #000080; text-decoration-color: #000080\">┃</span>\n",
       "<span style=\"color: #000080; text-decoration-color: #000080\">┃</span> 1. \"Companies like Costco and Apple are defending their DEI programs despite nationwide pushback\\u2014These are <span style=\"color: #000080; text-decoration-color: #000080\">┃</span>\n",
       "<span style=\"color: #000080; text-decoration-color: #000080\">┃</span> the companies standing by their policies\" - discusses companies maintaining their diversity, equity, and        <span style=\"color: #000080; text-decoration-color: #000080\">┃</span>\n",
       "<span style=\"color: #000080; text-decoration-color: #000080\">┃</span> inclusion (DEI) policies despite opposition.                                                                    <span style=\"color: #000080; text-decoration-color: #000080\">┃</span>\n",
       "<span style=\"color: #000080; text-decoration-color: #000080\">┃</span> 2. \"Global Euphoria for Indian Bonds Wanes as Rupee Slumps\" - discusses the state of the Indian bond market.    <span style=\"color: #000080; text-decoration-color: #000080\">┃</span>\n",
       "<span style=\"color: #000080; text-decoration-color: #000080\">┃</span> 3. \"Is JPMorgan Chase &amp; Co. (JPM) Unstoppable Dividend Stock to Invest In?\" - analyzes JPMorgan Chase as an     <span style=\"color: #000080; text-decoration-color: #000080\">┃</span>\n",
       "<span style=\"color: #000080; text-decoration-color: #000080\">┃</span> investment opportunity, suggesting it is an unstoppable dividend stock.                                         <span style=\"color: #000080; text-decoration-color: #000080\">┃</span>\n",
       "<span style=\"color: #000080; text-decoration-color: #000080\">┃</span>                                                                                                                 <span style=\"color: #000080; text-decoration-color: #000080\">┃</span>\n",
       "<span style=\"color: #000080; text-decoration-color: #000080\">┃</span> These news stories may provide some insight into the current state and trends of JPM. For a more comprehensive  <span style=\"color: #000080; text-decoration-color: #000080\">┃</span>\n",
       "<span style=\"color: #000080; text-decoration-color: #000080\">┃</span> trend analysis, you might want to consult financial news outlets or analyst reports.                            <span style=\"color: #000080; text-decoration-color: #000080\">┃</span>\n",
       "<span style=\"color: #000080; text-decoration-color: #000080\">┃</span>                                                                                                                 <span style=\"color: #000080; text-decoration-color: #000080\">┃</span>\n",
       "<span style=\"color: #000080; text-decoration-color: #000080\">┗━━━━━━━━━━━━━━━━━━━━━━━━━━━━━━━━━━━━━━━━━━━━━━━━━━━━━━━━━━━━━━━━━━━━━━━━━━━━━━━━━━━━━━━━━━━━━━━━━━━━━━━━━━━━━━━━━┛</span>\n",
       "</pre>\n"
      ],
      "text/plain": [
       "\u001b[32m▰▰▰▰▰▰▰\u001b[0m Thinking...\n",
       "\u001b[36m┏━\u001b[0m\u001b[36m Message \u001b[0m\u001b[36m━━━━━━━━━━━━━━━━━━━━━━━━━━━━━━━━━━━━━━━━━━━━━━━━━━━━━━━━━━━━━━━━━━━━━━━━━━━━━━━━━━━━━━━━━━━━━━━━━━━━━━\u001b[0m\u001b[36m━┓\u001b[0m\n",
       "\u001b[36m┃\u001b[0m                                                                                                                 \u001b[36m┃\u001b[0m\n",
       "\u001b[36m┃\u001b[0m \u001b[32mGet the stock price from JPM and search what the trends are\u001b[0m                                                     \u001b[36m┃\u001b[0m\n",
       "\u001b[36m┃\u001b[0m                                                                                                                 \u001b[36m┃\u001b[0m\n",
       "\u001b[36m┗━━━━━━━━━━━━━━━━━━━━━━━━━━━━━━━━━━━━━━━━━━━━━━━━━━━━━━━━━━━━━━━━━━━━━━━━━━━━━━━━━━━━━━━━━━━━━━━━━━━━━━━━━━━━━━━━━┛\u001b[0m\n",
       "\u001b[34m┏━\u001b[0m\u001b[34m Response (13.4s) \u001b[0m\u001b[34m━━━━━━━━━━━━━━━━━━━━━━━━━━━━━━━━━━━━━━━━━━━━━━━━━━━━━━━━━━━━━━━━━━━━━━━━━━━━━━━━━━━━━━━━━━━━━\u001b[0m\u001b[34m━┓\u001b[0m\n",
       "\u001b[34m┃\u001b[0m                                                                                                                 \u001b[34m┃\u001b[0m\n",
       "\u001b[34m┃\u001b[0m <tool_call>                                                                                                     \u001b[34m┃\u001b[0m\n",
       "\u001b[34m┃\u001b[0m Running:                                                                                                        \u001b[34m┃\u001b[0m\n",
       "\u001b[34m┃\u001b[0m  - get_current_stock_price(symbol=JPM)                                                                          \u001b[34m┃\u001b[0m\n",
       "\u001b[34m┃\u001b[0m  - get_company_news(symbol=JPM)                                                                                 \u001b[34m┃\u001b[0m\n",
       "\u001b[34m┃\u001b[0m                                                                                                                 \u001b[34m┃\u001b[0m\n",
       "\u001b[34m┃\u001b[0m The current stock price for JPM is $269.35. Recent news stories related to JPM include:                         \u001b[34m┃\u001b[0m\n",
       "\u001b[34m┃\u001b[0m                                                                                                                 \u001b[34m┃\u001b[0m\n",
       "\u001b[34m┃\u001b[0m 1. \"Companies like Costco and Apple are defending their DEI programs despite nationwide pushback\\u2014These are \u001b[34m┃\u001b[0m\n",
       "\u001b[34m┃\u001b[0m the companies standing by their policies\" - discusses companies maintaining their diversity, equity, and        \u001b[34m┃\u001b[0m\n",
       "\u001b[34m┃\u001b[0m inclusion (DEI) policies despite opposition.                                                                    \u001b[34m┃\u001b[0m\n",
       "\u001b[34m┃\u001b[0m 2. \"Global Euphoria for Indian Bonds Wanes as Rupee Slumps\" - discusses the state of the Indian bond market.    \u001b[34m┃\u001b[0m\n",
       "\u001b[34m┃\u001b[0m 3. \"Is JPMorgan Chase & Co. (JPM) Unstoppable Dividend Stock to Invest In?\" - analyzes JPMorgan Chase as an     \u001b[34m┃\u001b[0m\n",
       "\u001b[34m┃\u001b[0m investment opportunity, suggesting it is an unstoppable dividend stock.                                         \u001b[34m┃\u001b[0m\n",
       "\u001b[34m┃\u001b[0m                                                                                                                 \u001b[34m┃\u001b[0m\n",
       "\u001b[34m┃\u001b[0m These news stories may provide some insight into the current state and trends of JPM. For a more comprehensive  \u001b[34m┃\u001b[0m\n",
       "\u001b[34m┃\u001b[0m trend analysis, you might want to consult financial news outlets or analyst reports.                            \u001b[34m┃\u001b[0m\n",
       "\u001b[34m┃\u001b[0m                                                                                                                 \u001b[34m┃\u001b[0m\n",
       "\u001b[34m┗━━━━━━━━━━━━━━━━━━━━━━━━━━━━━━━━━━━━━━━━━━━━━━━━━━━━━━━━━━━━━━━━━━━━━━━━━━━━━━━━━━━━━━━━━━━━━━━━━━━━━━━━━━━━━━━━━┛\u001b[0m\n"
      ]
     },
     "metadata": {},
     "output_type": "display_data"
    },
    {
     "data": {
      "text/html": [
       "<pre style=\"white-space:pre;overflow-x:auto;line-height:normal;font-family:Menlo,'DejaVu Sans Mono',consolas,'Courier New',monospace\"></pre>\n"
      ],
      "text/plain": []
     },
     "metadata": {},
     "output_type": "display_data"
    }
   ],
   "source": [
    "agent.print_response(\"Get the stock price from JPM and search what the trends are\", stream=True)"
   ]
  }
 ],
 "metadata": {
  "kernelspec": {
   "display_name": "Python 3.11",
   "language": "python",
   "name": "python3"
  },
  "language_info": {
   "codemirror_mode": {
    "name": "ipython",
    "version": 3
   },
   "file_extension": ".py",
   "mimetype": "text/x-python",
   "name": "python",
   "nbconvert_exporter": "python",
   "pygments_lexer": "ipython3",
   "version": "3.11.7"
  },
  "widgets": {
   "application/vnd.jupyter.widget-state+json": {
    "state": {},
    "version_major": 2,
    "version_minor": 0
   }
  }
 },
 "nbformat": 4,
 "nbformat_minor": 5
}
